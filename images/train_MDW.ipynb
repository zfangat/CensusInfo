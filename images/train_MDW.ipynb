{
 "cells": [
  {
   "cell_type": "code",
   "execution_count": 1,
   "metadata": {},
   "outputs": [],
   "source": [
    "from mxnet import gluon, init, nd, autograd\n",
    "from mxnet.contrib import text\n",
    "from mxnet.gluon import data as gdata, loss as gloss, nn, utils as gutils\n",
    "import collections\n",
    "import pickle as pk\n",
    "import numpy as np\n",
    "import sys\n",
    "import pandas as pd\n",
    "sys.path.append('X:/Projects/MDW/temp/code')\n",
    "from MWE import tokenizer\n",
    "from post_pattern import patterns\n",
    "import re\n",
    "import random\n",
    "import matplotlib.pyplot as plt"
   ]
  },
  {
   "cell_type": "markdown",
   "metadata": {},
   "source": [
    "make sure you have d2l 0.8.7. Otherwise you may run into undefined functions."
   ]
  },
  {
   "cell_type": "code",
   "execution_count": 2,
   "metadata": {},
   "outputs": [
    {
     "data": {
      "text/plain": [
       "'0.8.7'"
      ]
     },
     "execution_count": 2,
     "metadata": {},
     "output_type": "execute_result"
    }
   ],
   "source": [
    "import d2l\n",
    "d2l.__version__"
   ]
  },
  {
   "cell_type": "markdown",
   "metadata": {},
   "source": [
    "this is the training set Zhong provided."
   ]
  },
  {
   "cell_type": "code",
   "execution_count": 3,
   "metadata": {},
   "outputs": [],
   "source": [
    "raw_data = pd.read_csv(r'X:/Projects/MDW/Export/mdwchen5.csv') "
   ]
  },
  {
   "cell_type": "markdown",
   "metadata": {},
   "source": [
    "same as the other file. Feel free to make any changes. I feel that this is the lower hanging fruit."
   ]
  },
  {
   "cell_type": "code",
   "execution_count": 4,
   "metadata": {},
   "outputs": [],
   "source": [
    "def clean_text(text,rgx,sep=''):\n",
    "    return re.sub(rgx, sep, text)\n",
    "\n",
    "def rid_of_regex(x,regex):\n",
    "        if re.search(regex,x):\n",
    "            return x[re.search(regex,x).span()[1]:]\n",
    "        else:\n",
    "            return x\n",
    "        \n",
    "def apply_regex(f,regex,x):\n",
    "    return list(map(lambda x:f(x,regex),x))"
   ]
  },
  {
   "cell_type": "code",
   "execution_count": 5,
   "metadata": {},
   "outputs": [],
   "source": [
    "def cleanText(data):\n",
    "    phone = re.compile(r'\\b\\d{3}.{0,1}\\d{3}.{0,1}\\d{4}(HOME|CELL|MOBILE|PER|OTHER)?\\b') \n",
    "    date = re.compile(r'\\d{1,2}/+\\d{1,2}/+\\d{2,4}')\n",
    "    date1 = re.compile(r'\\d{2}/{0,1}\\d{2}/{0,1}\\d{2,4}')\n",
    "    state = re.compile(r'\\b(AL|AK|AZ|AR|CA|CO|CT|DE|FL|GA|HI|ID|IL|IN|IA|KS|KY|LA|ME|MD|MA|MI|MN|MS|MO|MT|NE|NV|NH|NJ|NM|NY|NC|ND|OH|OK|OR|PA|RI|SC|SD|TN|TX|UT|VT|VA|WA|WV|WI|WY)\\d{5}\\b')\n",
    "    country = re.compile(r'(JAPAN|MEXICO|ISRAEL|CHINA|THAILAND|PANAMA|AUSTRALIA|CANADA|PHILIPPINES|HOLLAND|INDIA|COSTA RICA|UNITED KINDOM|UK|GERMANY|BRAZIL|DOMINICAN|TAIWAN|KOREA|RUSSIA|GUADERRAMA)')\n",
    "\n",
    "    test = apply_regex(clean_text,phone,data.mtext.values)\n",
    "    test = apply_regex(rid_of_regex,state,test)\n",
    "    test = apply_regex(rid_of_regex,country,test)\n",
    "    test = apply_regex(clean_text,date,test)\n",
    "    test = apply_regex(clean_text,date1,test)\n",
    "    test= list(map(lambda x : ' '.join(x),map(lambda x :[x[0]+x[1] for x in re.findall('([A-Z]+)|([0-9]+)',x)],test)))\n",
    "    return test"
   ]
  },
  {
   "cell_type": "code",
   "execution_count": 6,
   "metadata": {},
   "outputs": [],
   "source": [
    "raw_data['mtext']=cleanText(raw_data)"
   ]
  },
  {
   "cell_type": "code",
   "execution_count": 7,
   "metadata": {},
   "outputs": [
    {
     "data": {
      "text/html": [
       "<div>\n",
       "<style scoped>\n",
       "    .dataframe tbody tr th:only-of-type {\n",
       "        vertical-align: middle;\n",
       "    }\n",
       "\n",
       "    .dataframe tbody tr th {\n",
       "        vertical-align: top;\n",
       "    }\n",
       "\n",
       "    .dataframe thead th {\n",
       "        text-align: right;\n",
       "    }\n",
       "</style>\n",
       "<table border=\"1\" class=\"dataframe\">\n",
       "  <thead>\n",
       "    <tr style=\"text-align: right;\">\n",
       "      <th></th>\n",
       "      <th>mwid</th>\n",
       "      <th>clssn</th>\n",
       "      <th>mtext</th>\n",
       "      <th>t1fst</th>\n",
       "      <th>t1sec</th>\n",
       "      <th>t1fstscr</th>\n",
       "      <th>t1secscr</th>\n",
       "      <th>fo</th>\n",
       "    </tr>\n",
       "  </thead>\n",
       "  <tbody>\n",
       "    <tr>\n",
       "      <th>0</th>\n",
       "      <td>788535</td>\n",
       "      <td>1305290</td>\n",
       "      <td>Y 01 DEATH UPX 2560 HP PLEASE SEE W 1 RW 01 0 ...</td>\n",
       "      <td>C1</td>\n",
       "      <td>C9</td>\n",
       "      <td>3</td>\n",
       "      <td>1</td>\n",
       "      <td>PC1</td>\n",
       "    </tr>\n",
       "    <tr>\n",
       "      <th>1</th>\n",
       "      <td>759740</td>\n",
       "      <td>1461118</td>\n",
       "      <td>Y 01 SMI REFUND 2560 HP SEE REMARKS LZB 01 0 1...</td>\n",
       "      <td>C3</td>\n",
       "      <td>NaN</td>\n",
       "      <td>8</td>\n",
       "      <td>0</td>\n",
       "      <td>PC1</td>\n",
       "    </tr>\n",
       "    <tr>\n",
       "      <th>2</th>\n",
       "      <td>754013</td>\n",
       "      <td>3426250</td>\n",
       "      <td>A Y 01 SMI 2560 HSWI 01 0 1018 018 DATE CATEGO...</td>\n",
       "      <td>C3</td>\n",
       "      <td>NaN</td>\n",
       "      <td>7</td>\n",
       "      <td>0</td>\n",
       "      <td>PC1</td>\n",
       "    </tr>\n",
       "    <tr>\n",
       "      <th>3</th>\n",
       "      <td>772554</td>\n",
       "      <td>4482611</td>\n",
       "      <td>T Y 01 ESTIMATE 2560 2 IVY 01 0 1018 018 DATE ...</td>\n",
       "      <td>C21</td>\n",
       "      <td>NaN</td>\n",
       "      <td>4</td>\n",
       "      <td>0</td>\n",
       "      <td>PC1</td>\n",
       "    </tr>\n",
       "    <tr>\n",
       "      <th>4</th>\n",
       "      <td>845176</td>\n",
       "      <td>4488411</td>\n",
       "      <td>NH IS REQUESTING 1099 FOR PROOF OF WHAT WAS CR...</td>\n",
       "      <td>C27</td>\n",
       "      <td>C3</td>\n",
       "      <td>2</td>\n",
       "      <td>2</td>\n",
       "      <td>PC1</td>\n",
       "    </tr>\n",
       "    <tr>\n",
       "      <th>5</th>\n",
       "      <td>840718</td>\n",
       "      <td>4728777</td>\n",
       "      <td>PLEASE PROVIDE STATUS OF DEC EFFECT THANK YOU ...</td>\n",
       "      <td>C9</td>\n",
       "      <td>C25</td>\n",
       "      <td>3</td>\n",
       "      <td>2</td>\n",
       "      <td>PC7</td>\n",
       "    </tr>\n",
       "    <tr>\n",
       "      <th>6</th>\n",
       "      <td>851344</td>\n",
       "      <td>5489192</td>\n",
       "      <td>A Y 01 BENEFIT AMT 2560 ACT 01 0 1018 018 DATE...</td>\n",
       "      <td>C3</td>\n",
       "      <td>C4</td>\n",
       "      <td>3</td>\n",
       "      <td>1</td>\n",
       "      <td>PC1</td>\n",
       "    </tr>\n",
       "    <tr>\n",
       "      <th>7</th>\n",
       "      <td>787742</td>\n",
       "      <td>6849274</td>\n",
       "      <td>NEED TO CHANGE THE PAYMENT HISTORY TO SHOW CES...</td>\n",
       "      <td>C9</td>\n",
       "      <td>C19</td>\n",
       "      <td>12</td>\n",
       "      <td>5</td>\n",
       "      <td>PC7</td>\n",
       "    </tr>\n",
       "    <tr>\n",
       "      <th>8</th>\n",
       "      <td>873667</td>\n",
       "      <td>2381243</td>\n",
       "      <td>A Y 02 VOL PMT CYC AGREE VOL PMT CYC 2560 HP Y...</td>\n",
       "      <td>C2</td>\n",
       "      <td>NaN</td>\n",
       "      <td>1</td>\n",
       "      <td>0</td>\n",
       "      <td>PC1</td>\n",
       "    </tr>\n",
       "    <tr>\n",
       "      <th>9</th>\n",
       "      <td>876482</td>\n",
       "      <td>2522026</td>\n",
       "      <td>Y 01 BACKPAY 2560 HP YES WO S 3001 0 01 0 1018...</td>\n",
       "      <td>C18</td>\n",
       "      <td>C17</td>\n",
       "      <td>2</td>\n",
       "      <td>1</td>\n",
       "      <td>PC7</td>\n",
       "    </tr>\n",
       "    <tr>\n",
       "      <th>10</th>\n",
       "      <td>798824</td>\n",
       "      <td>3722065</td>\n",
       "      <td>BENEFITS WILL TERM 08 18 NH REQUESTED EXR IN L...</td>\n",
       "      <td>C4</td>\n",
       "      <td>C25</td>\n",
       "      <td>3</td>\n",
       "      <td>2</td>\n",
       "      <td>PC7</td>\n",
       "    </tr>\n",
       "    <tr>\n",
       "      <th>11</th>\n",
       "      <td>824640</td>\n",
       "      <td>3889632</td>\n",
       "      <td>MAILED LIMITED PAYABILITY LETTER FOR AUGUST 20...</td>\n",
       "      <td>C18</td>\n",
       "      <td>C23</td>\n",
       "      <td>1</td>\n",
       "      <td>1</td>\n",
       "      <td>PC7</td>\n",
       "    </tr>\n",
       "    <tr>\n",
       "      <th>12</th>\n",
       "      <td>831604</td>\n",
       "      <td>4286782</td>\n",
       "      <td>LINDA FENDERSON A 1724 RETAINED AT SJS DESK Y ...</td>\n",
       "      <td>C1</td>\n",
       "      <td>C23</td>\n",
       "      <td>2</td>\n",
       "      <td>1</td>\n",
       "      <td>PC1</td>\n",
       "    </tr>\n",
       "    <tr>\n",
       "      <th>13</th>\n",
       "      <td>730058</td>\n",
       "      <td>4568000</td>\n",
       "      <td>Y 01 561 2560 HP YES MYN 01 0 1018 9 HA IS REQ...</td>\n",
       "      <td>NaN</td>\n",
       "      <td>NaN</td>\n",
       "      <td>0</td>\n",
       "      <td>0</td>\n",
       "      <td>PC1</td>\n",
       "    </tr>\n",
       "    <tr>\n",
       "      <th>14</th>\n",
       "      <td>880056</td>\n",
       "      <td>5585053</td>\n",
       "      <td>VY 01 OVERPAYMENT 2560 VS 4 B 01 0 1018 018 ON...</td>\n",
       "      <td>C9</td>\n",
       "      <td>C19</td>\n",
       "      <td>10</td>\n",
       "      <td>1</td>\n",
       "      <td>PC1</td>\n",
       "    </tr>\n",
       "    <tr>\n",
       "      <th>15</th>\n",
       "      <td>763252</td>\n",
       "      <td>5729127</td>\n",
       "      <td>A Y 01 SMITERMINAT 2560 HP HSS 01 0 1018 018 D...</td>\n",
       "      <td>C3</td>\n",
       "      <td>NaN</td>\n",
       "      <td>3</td>\n",
       "      <td>0</td>\n",
       "      <td>PC1</td>\n",
       "    </tr>\n",
       "    <tr>\n",
       "      <th>16</th>\n",
       "      <td>771293</td>\n",
       "      <td>6601037</td>\n",
       "      <td>AWITHDRAWAL OF PART B GETS TERMED MONTH AFTER ...</td>\n",
       "      <td>C3</td>\n",
       "      <td>NaN</td>\n",
       "      <td>3</td>\n",
       "      <td>0</td>\n",
       "      <td>PC1</td>\n",
       "    </tr>\n",
       "    <tr>\n",
       "      <th>17</th>\n",
       "      <td>776439</td>\n",
       "      <td>7786391</td>\n",
       "      <td>APLEASE PROVIDE STATUS OF DEC EFFECT THANK YOU...</td>\n",
       "      <td>C25</td>\n",
       "      <td>NaN</td>\n",
       "      <td>2</td>\n",
       "      <td>0</td>\n",
       "      <td>PC7</td>\n",
       "    </tr>\n",
       "    <tr>\n",
       "      <th>18</th>\n",
       "      <td>763228</td>\n",
       "      <td>8428245</td>\n",
       "      <td>A Y 01 SSI BENEFIT 2560 HSCM 01 0 1018 018 DAT...</td>\n",
       "      <td>C25</td>\n",
       "      <td>NaN</td>\n",
       "      <td>1</td>\n",
       "      <td>0</td>\n",
       "      <td>PC1</td>\n",
       "    </tr>\n",
       "    <tr>\n",
       "      <th>19</th>\n",
       "      <td>739984</td>\n",
       "      <td>10724629</td>\n",
       "      <td>Y 01 CHECK PYMNT 2560 YES 7 I R 01 0 1018 018 ...</td>\n",
       "      <td>C8</td>\n",
       "      <td>NaN</td>\n",
       "      <td>1</td>\n",
       "      <td>0</td>\n",
       "      <td>PC8</td>\n",
       "    </tr>\n",
       "    <tr>\n",
       "      <th>20</th>\n",
       "      <td>875740</td>\n",
       "      <td>1462948</td>\n",
       "      <td>T Y 02 SMI BILLING 2560 YES NO MONTHLY 2560 2 ...</td>\n",
       "      <td>C3</td>\n",
       "      <td>NaN</td>\n",
       "      <td>3</td>\n",
       "      <td>0</td>\n",
       "      <td>PC1</td>\n",
       "    </tr>\n",
       "    <tr>\n",
       "      <th>21</th>\n",
       "      <td>775038</td>\n",
       "      <td>2347998</td>\n",
       "      <td>A Y 01 RECALCULATE 2560 DM 01 0 1018 018 DATE ...</td>\n",
       "      <td>NaN</td>\n",
       "      <td>NaN</td>\n",
       "      <td>0</td>\n",
       "      <td>0</td>\n",
       "      <td>PC1</td>\n",
       "    </tr>\n",
       "    <tr>\n",
       "      <th>22</th>\n",
       "      <td>862959</td>\n",
       "      <td>2723088</td>\n",
       "      <td>Y 01 RETROSTATUS 2560 HP SEE REMARKS EY 01 0 1...</td>\n",
       "      <td>C2</td>\n",
       "      <td>NaN</td>\n",
       "      <td>3</td>\n",
       "      <td>0</td>\n",
       "      <td>PC7</td>\n",
       "    </tr>\n",
       "    <tr>\n",
       "      <th>23</th>\n",
       "      <td>882945</td>\n",
       "      <td>4409630</td>\n",
       "      <td>VY 02 OVERPAYMENT 2560 HP YES DONE 2560 LZMV 1...</td>\n",
       "      <td>C9</td>\n",
       "      <td>C8</td>\n",
       "      <td>8</td>\n",
       "      <td>1</td>\n",
       "      <td>PC1</td>\n",
       "    </tr>\n",
       "    <tr>\n",
       "      <th>24</th>\n",
       "      <td>871459</td>\n",
       "      <td>4666543</td>\n",
       "      <td>A Y 01 SMI REFUND 2560 HP LL K 01 0 1018 018 D...</td>\n",
       "      <td>C3</td>\n",
       "      <td>NaN</td>\n",
       "      <td>3</td>\n",
       "      <td>0</td>\n",
       "      <td>PC7</td>\n",
       "    </tr>\n",
       "    <tr>\n",
       "      <th>25</th>\n",
       "      <td>841249</td>\n",
       "      <td>5562442</td>\n",
       "      <td>C 1 Y 01 SMI REFUSAL 2560 L 8 KH 01 0 1018 018...</td>\n",
       "      <td>C3</td>\n",
       "      <td>NaN</td>\n",
       "      <td>2</td>\n",
       "      <td>0</td>\n",
       "      <td>PC1</td>\n",
       "    </tr>\n",
       "    <tr>\n",
       "      <th>26</th>\n",
       "      <td>856703</td>\n",
       "      <td>7287952</td>\n",
       "      <td>2560 H 9 DONE 2560 PD WIDOW U P WCUE 1001 0 01...</td>\n",
       "      <td>NaN</td>\n",
       "      <td>NaN</td>\n",
       "      <td>0</td>\n",
       "      <td>0</td>\n",
       "      <td>PC1</td>\n",
       "    </tr>\n",
       "    <tr>\n",
       "      <th>27</th>\n",
       "      <td>794405</td>\n",
       "      <td>11282059</td>\n",
       "      <td>Y 01 MEDICARE B 2560 HP M 8 DF 01 0 1018 018 N...</td>\n",
       "      <td>C3</td>\n",
       "      <td>NaN</td>\n",
       "      <td>3</td>\n",
       "      <td>0</td>\n",
       "      <td>PC1</td>\n",
       "    </tr>\n",
       "    <tr>\n",
       "      <th>28</th>\n",
       "      <td>828606</td>\n",
       "      <td>11289964</td>\n",
       "      <td>T Y 02 MEDI PREMI 2560 DONE 2560 0 GL 01 0 201...</td>\n",
       "      <td>C3</td>\n",
       "      <td>NaN</td>\n",
       "      <td>3</td>\n",
       "      <td>0</td>\n",
       "      <td>PC1</td>\n",
       "    </tr>\n",
       "    <tr>\n",
       "      <th>29</th>\n",
       "      <td>878620</td>\n",
       "      <td>13443838</td>\n",
       "      <td>A Y 02 RET CHECK 2560 YES CLOSEOUT 2560 A 1 A ...</td>\n",
       "      <td>C18</td>\n",
       "      <td>C8</td>\n",
       "      <td>1</td>\n",
       "      <td>1</td>\n",
       "      <td>PC1</td>\n",
       "    </tr>\n",
       "    <tr>\n",
       "      <th>...</th>\n",
       "      <td>...</td>\n",
       "      <td>...</td>\n",
       "      <td>...</td>\n",
       "      <td>...</td>\n",
       "      <td>...</td>\n",
       "      <td>...</td>\n",
       "      <td>...</td>\n",
       "      <td>...</td>\n",
       "    </tr>\n",
       "    <tr>\n",
       "      <th>153659</th>\n",
       "      <td>812925</td>\n",
       "      <td>625045422</td>\n",
       "      <td>A Y 01 1099 DESCRP 2560 YESS SP U 01 0 1018 01...</td>\n",
       "      <td>C27</td>\n",
       "      <td>C19</td>\n",
       "      <td>4</td>\n",
       "      <td>1</td>\n",
       "      <td>PC7</td>\n",
       "    </tr>\n",
       "    <tr>\n",
       "      <th>153660</th>\n",
       "      <td>749330</td>\n",
       "      <td>625222225</td>\n",
       "      <td>A NH HAD DELAYED RECEIVING HIS BENEFITS FOR DR...</td>\n",
       "      <td>NaN</td>\n",
       "      <td>NaN</td>\n",
       "      <td>0</td>\n",
       "      <td>0</td>\n",
       "      <td>PC5</td>\n",
       "    </tr>\n",
       "    <tr>\n",
       "      <th>153661</th>\n",
       "      <td>846247</td>\n",
       "      <td>622241904</td>\n",
       "      <td>96 PLEASE DEVELOP FOR AUX SPOUSE AND TWO CHILD...</td>\n",
       "      <td>C2</td>\n",
       "      <td>C18</td>\n",
       "      <td>2</td>\n",
       "      <td>1</td>\n",
       "      <td>PC5</td>\n",
       "    </tr>\n",
       "    <tr>\n",
       "      <th>153662</th>\n",
       "      <td>742615</td>\n",
       "      <td>625078192</td>\n",
       "      <td>Y 01 DEPORTATION 2560 HP WCL 01 0 1018 018 NH ...</td>\n",
       "      <td>NaN</td>\n",
       "      <td>NaN</td>\n",
       "      <td>0</td>\n",
       "      <td>0</td>\n",
       "      <td>PC5</td>\n",
       "    </tr>\n",
       "    <tr>\n",
       "      <th>153663</th>\n",
       "      <td>843040</td>\n",
       "      <td>626508788</td>\n",
       "      <td>NONE A Y 02 T 16 COA ADM XXXX 19 XXYES MEDICAR...</td>\n",
       "      <td>C16</td>\n",
       "      <td>C18</td>\n",
       "      <td>3</td>\n",
       "      <td>1</td>\n",
       "      <td>PC7</td>\n",
       "    </tr>\n",
       "    <tr>\n",
       "      <th>153664</th>\n",
       "      <td>846734</td>\n",
       "      <td>642241223</td>\n",
       "      <td>A Y 01 PAY STATUS 2560 HP C RMKS 7 KT 01 0 101...</td>\n",
       "      <td>C25</td>\n",
       "      <td>C3</td>\n",
       "      <td>2</td>\n",
       "      <td>1</td>\n",
       "      <td>PC6</td>\n",
       "    </tr>\n",
       "    <tr>\n",
       "      <th>153665</th>\n",
       "      <td>822573</td>\n",
       "      <td>672052686</td>\n",
       "      <td>3 C 2 Y 01 DIBALLOW SEE REMKS NR 82001 0 01 0 ...</td>\n",
       "      <td>C18</td>\n",
       "      <td>NaN</td>\n",
       "      <td>1</td>\n",
       "      <td>0</td>\n",
       "      <td>PC3</td>\n",
       "    </tr>\n",
       "    <tr>\n",
       "      <th>153666</th>\n",
       "      <td>781944</td>\n",
       "      <td>718999898</td>\n",
       "      <td>B Y 01 SMI AMOUNT 2560 ACXN 01 0 1018 018 DATE...</td>\n",
       "      <td>C3</td>\n",
       "      <td>NaN</td>\n",
       "      <td>1</td>\n",
       "      <td>0</td>\n",
       "      <td>PC8</td>\n",
       "    </tr>\n",
       "    <tr>\n",
       "      <th>153667</th>\n",
       "      <td>799443</td>\n",
       "      <td>729142924</td>\n",
       "      <td>A 4 B Y 02 SEP PART B ADM DONE CLAIM 2560 SEP ...</td>\n",
       "      <td>C3</td>\n",
       "      <td>C4</td>\n",
       "      <td>16</td>\n",
       "      <td>2</td>\n",
       "      <td>PC1</td>\n",
       "    </tr>\n",
       "    <tr>\n",
       "      <th>153668</th>\n",
       "      <td>852734</td>\n",
       "      <td>764073399</td>\n",
       "      <td>Y 01 PART A 2560 HP SEE REMARKS DC 01 0 1018 0...</td>\n",
       "      <td>C3</td>\n",
       "      <td>C18</td>\n",
       "      <td>5</td>\n",
       "      <td>1</td>\n",
       "      <td>PC8</td>\n",
       "    </tr>\n",
       "    <tr>\n",
       "      <th>153669</th>\n",
       "      <td>861345</td>\n",
       "      <td>766760118</td>\n",
       "      <td>Y 01 PRISON 2560 HP G 8 IT 01 0 1018 018 DATE ...</td>\n",
       "      <td>NaN</td>\n",
       "      <td>NaN</td>\n",
       "      <td>0</td>\n",
       "      <td>0</td>\n",
       "      <td>PC3</td>\n",
       "    </tr>\n",
       "    <tr>\n",
       "      <th>153670</th>\n",
       "      <td>796969</td>\n",
       "      <td>771765364</td>\n",
       "      <td>A Y 02 PART B P PM REINS PT B 2560 HP 5 1 Z 01...</td>\n",
       "      <td>C3</td>\n",
       "      <td>C18</td>\n",
       "      <td>7</td>\n",
       "      <td>1</td>\n",
       "      <td>PC3</td>\n",
       "    </tr>\n",
       "    <tr>\n",
       "      <th>153671</th>\n",
       "      <td>759101</td>\n",
       "      <td>811375067</td>\n",
       "      <td>M Y 02 MEDICARE ADM SEE RMKS HI ENTL 2560 FL E...</td>\n",
       "      <td>C3</td>\n",
       "      <td>NaN</td>\n",
       "      <td>5</td>\n",
       "      <td>0</td>\n",
       "      <td>PC2</td>\n",
       "    </tr>\n",
       "    <tr>\n",
       "      <th>153672</th>\n",
       "      <td>821604</td>\n",
       "      <td>841915950</td>\n",
       "      <td>Y 01 WINDFALL 2560 HP YES 2 QN 01 0 1018 018 S...</td>\n",
       "      <td>C2</td>\n",
       "      <td>C4</td>\n",
       "      <td>1</td>\n",
       "      <td>1</td>\n",
       "      <td>PC7</td>\n",
       "    </tr>\n",
       "    <tr>\n",
       "      <th>153673</th>\n",
       "      <td>835540</td>\n",
       "      <td>869347809</td>\n",
       "      <td>M Y 01 SMI 2560 HOM 01 0 1018 018 DATE CATEGOR...</td>\n",
       "      <td>C3</td>\n",
       "      <td>NaN</td>\n",
       "      <td>3</td>\n",
       "      <td>0</td>\n",
       "      <td>PC6</td>\n",
       "    </tr>\n",
       "    <tr>\n",
       "      <th>153674</th>\n",
       "      <td>778017</td>\n",
       "      <td>737958627</td>\n",
       "      <td>44100 D 27 Y 01 LAW PRES 2560 8 GBS 01 0 1018 ...</td>\n",
       "      <td>C18</td>\n",
       "      <td>NaN</td>\n",
       "      <td>1</td>\n",
       "      <td>0</td>\n",
       "      <td>PC8</td>\n",
       "    </tr>\n",
       "    <tr>\n",
       "      <th>153675</th>\n",
       "      <td>796242</td>\n",
       "      <td>756039420</td>\n",
       "      <td>8 C 4 Y 01 PAYMENT 2560 HP Y RZG 01 0 1018 018...</td>\n",
       "      <td>C18</td>\n",
       "      <td>NaN</td>\n",
       "      <td>1</td>\n",
       "      <td>0</td>\n",
       "      <td>PC3</td>\n",
       "    </tr>\n",
       "    <tr>\n",
       "      <th>153676</th>\n",
       "      <td>767877</td>\n",
       "      <td>765663786</td>\n",
       "      <td>Y 01 U P 2560 YES LG 01 0 1018 REPRESENTATIVE ...</td>\n",
       "      <td>NaN</td>\n",
       "      <td>NaN</td>\n",
       "      <td>0</td>\n",
       "      <td>0</td>\n",
       "      <td>PC7</td>\n",
       "    </tr>\n",
       "    <tr>\n",
       "      <th>153677</th>\n",
       "      <td>796039</td>\n",
       "      <td>800881285</td>\n",
       "      <td>M Y 01 COA 2560 HP SEE REMARKS VGE 2000 0 01 0...</td>\n",
       "      <td>C16</td>\n",
       "      <td>C3</td>\n",
       "      <td>2</td>\n",
       "      <td>1</td>\n",
       "      <td>PC3</td>\n",
       "    </tr>\n",
       "    <tr>\n",
       "      <th>153678</th>\n",
       "      <td>754796</td>\n",
       "      <td>833492346</td>\n",
       "      <td>C 1 Y 01 PAYMENT STA 2560 43 I 01 0 1018 018 D...</td>\n",
       "      <td>NaN</td>\n",
       "      <td>NaN</td>\n",
       "      <td>0</td>\n",
       "      <td>0</td>\n",
       "      <td>PC4</td>\n",
       "    </tr>\n",
       "    <tr>\n",
       "      <th>153679</th>\n",
       "      <td>850299</td>\n",
       "      <td>633528586</td>\n",
       "      <td>A 6 Y 04 BACK PAY ADM WINFAL ADMHP YES STATUS ...</td>\n",
       "      <td>C2</td>\n",
       "      <td>C18</td>\n",
       "      <td>4</td>\n",
       "      <td>2</td>\n",
       "      <td>PC6</td>\n",
       "    </tr>\n",
       "    <tr>\n",
       "      <th>153680</th>\n",
       "      <td>799120</td>\n",
       "      <td>635171090</td>\n",
       "      <td>DC Y 01 COA T 16 ADMIN Z 2 JK 01 0 1018 9 AS P...</td>\n",
       "      <td>C16</td>\n",
       "      <td>C9</td>\n",
       "      <td>2</td>\n",
       "      <td>2</td>\n",
       "      <td>PC6</td>\n",
       "    </tr>\n",
       "    <tr>\n",
       "      <th>153681</th>\n",
       "      <td>752659</td>\n",
       "      <td>637923341</td>\n",
       "      <td>Y 01 OVERPAYMENT 2560 SEE REMARKS WA 9 01 0 10...</td>\n",
       "      <td>C9</td>\n",
       "      <td>NaN</td>\n",
       "      <td>10</td>\n",
       "      <td>0</td>\n",
       "      <td>PC6</td>\n",
       "    </tr>\n",
       "    <tr>\n",
       "      <th>153682</th>\n",
       "      <td>749524</td>\n",
       "      <td>639609621</td>\n",
       "      <td>Y 01 UP 2560 HP 6 C 01 0 1018 01 THIS CASE HAS...</td>\n",
       "      <td>C17</td>\n",
       "      <td>NaN</td>\n",
       "      <td>5</td>\n",
       "      <td>0</td>\n",
       "      <td>PC8</td>\n",
       "    </tr>\n",
       "    <tr>\n",
       "      <th>153683</th>\n",
       "      <td>774339</td>\n",
       "      <td>645072912</td>\n",
       "      <td>Y 02 DECEFFECT 2560 DECEFFECT 2560 FN 01 0 201...</td>\n",
       "      <td>C25</td>\n",
       "      <td>NaN</td>\n",
       "      <td>4</td>\n",
       "      <td>0</td>\n",
       "      <td>PC7</td>\n",
       "    </tr>\n",
       "    <tr>\n",
       "      <th>153684</th>\n",
       "      <td>837538</td>\n",
       "      <td>680068103</td>\n",
       "      <td>Y 01 O P 2560 GZ 5 E 01 0 1018 018 G 4 T 048 N...</td>\n",
       "      <td>C9</td>\n",
       "      <td>C19</td>\n",
       "      <td>2</td>\n",
       "      <td>1</td>\n",
       "      <td>PC7</td>\n",
       "    </tr>\n",
       "    <tr>\n",
       "      <th>153685</th>\n",
       "      <td>769671</td>\n",
       "      <td>729093419</td>\n",
       "      <td>BENEFIT RECOMPUTATION REQUEST 01 BENF RECOMP 2...</td>\n",
       "      <td>C6</td>\n",
       "      <td>NaN</td>\n",
       "      <td>1</td>\n",
       "      <td>0</td>\n",
       "      <td>PC1</td>\n",
       "    </tr>\n",
       "    <tr>\n",
       "      <th>153686</th>\n",
       "      <td>789471</td>\n",
       "      <td>731095599</td>\n",
       "      <td>A Y 01 WOD 2560 HP SEE REMARKS ABDT 01 0 1018 ...</td>\n",
       "      <td>C2</td>\n",
       "      <td>NaN</td>\n",
       "      <td>3</td>\n",
       "      <td>0</td>\n",
       "      <td>PC4</td>\n",
       "    </tr>\n",
       "    <tr>\n",
       "      <th>153687</th>\n",
       "      <td>740265</td>\n",
       "      <td>755033904</td>\n",
       "      <td>Y 01 STATUS 2560 P BW 01 0 1018 018 DATE CATEG...</td>\n",
       "      <td>NaN</td>\n",
       "      <td>NaN</td>\n",
       "      <td>0</td>\n",
       "      <td>0</td>\n",
       "      <td>PC3</td>\n",
       "    </tr>\n",
       "    <tr>\n",
       "      <th>153688</th>\n",
       "      <td>736412</td>\n",
       "      <td>879956565</td>\n",
       "      <td>2 C 1 Y 02 PAYEE ISSUET 2 RP YES WRONG SSN SEE...</td>\n",
       "      <td>NaN</td>\n",
       "      <td>NaN</td>\n",
       "      <td>0</td>\n",
       "      <td>0</td>\n",
       "      <td>PC1</td>\n",
       "    </tr>\n",
       "  </tbody>\n",
       "</table>\n",
       "<p>153689 rows × 8 columns</p>\n",
       "</div>"
      ],
      "text/plain": [
       "          mwid      clssn                                              mtext  \\\n",
       "0       788535    1305290  Y 01 DEATH UPX 2560 HP PLEASE SEE W 1 RW 01 0 ...   \n",
       "1       759740    1461118  Y 01 SMI REFUND 2560 HP SEE REMARKS LZB 01 0 1...   \n",
       "2       754013    3426250  A Y 01 SMI 2560 HSWI 01 0 1018 018 DATE CATEGO...   \n",
       "3       772554    4482611  T Y 01 ESTIMATE 2560 2 IVY 01 0 1018 018 DATE ...   \n",
       "4       845176    4488411  NH IS REQUESTING 1099 FOR PROOF OF WHAT WAS CR...   \n",
       "...        ...        ...                                                ...   \n",
       "153684  837538  680068103  Y 01 O P 2560 GZ 5 E 01 0 1018 018 G 4 T 048 N...   \n",
       "153685  769671  729093419  BENEFIT RECOMPUTATION REQUEST 01 BENF RECOMP 2...   \n",
       "153686  789471  731095599  A Y 01 WOD 2560 HP SEE REMARKS ABDT 01 0 1018 ...   \n",
       "153687  740265  755033904  Y 01 STATUS 2560 P BW 01 0 1018 018 DATE CATEG...   \n",
       "153688  736412  879956565  2 C 1 Y 02 PAYEE ISSUET 2 RP YES WRONG SSN SEE...   \n",
       "\n",
       "       t1fst t1sec  t1fstscr  t1secscr   fo  \n",
       "0         C1    C9         3         1  PC1  \n",
       "1         C3   NaN         8         0  PC1  \n",
       "2         C3   NaN         7         0  PC1  \n",
       "3        C21   NaN         4         0  PC1  \n",
       "4        C27    C3         2         2  PC1  \n",
       "...      ...   ...       ...       ...  ...  \n",
       "153684    C9   C19         2         1  PC7  \n",
       "153685    C6   NaN         1         0  PC1  \n",
       "153686    C2   NaN         3         0  PC4  \n",
       "153687   NaN   NaN         0         0  PC3  \n",
       "153688   NaN   NaN         0         0  PC1  \n",
       "\n",
       "[153689 rows x 8 columns]"
      ]
     },
     "execution_count": 7,
     "metadata": {},
     "output_type": "execute_result"
    }
   ],
   "source": [
    "raw_data"
   ]
  },
  {
   "cell_type": "markdown",
   "metadata": {},
   "source": [
    "if we decide to use our pre-trained word embeddings, it is neccessary to use the following objects from the training too."
   ]
  },
  {
   "cell_type": "code",
   "execution_count": 8,
   "metadata": {},
   "outputs": [],
   "source": [
    "import pickle as pk\n",
    "caches_url = 'X:/Projects/MDW/temp/code/cachesMay30.sav'\n",
    "caches = pk.load(open(caches_url,'rb'))\n",
    "idx_to_token = caches['idx_to_token']\n",
    "token_to_idx = caches['token_to_idx']\n",
    "vocab = caches['vocab']\n",
    "input_dim = caches['input_dim']\n",
    "#output_dim = caches['embed_size']\n",
    "# this load pre-trained model from net.params file.\n",
    "# notice that net has to be defined the same way the pre-trained model is\n",
    "# otherwise you will get error.\n",
    "\n",
    "#from mxnet.gluon import nn\n",
    "#net = nn.Sequential()\n",
    "#net.add(nn.Embedding(input_dim=input_dim, output_dim=output_dim),\n",
    "#        nn.Embedding(input_dim=input_dim, output_dim=output_dim))\n",
    "#net.load_parameters('X:/Projects/MDW/temp/code/netMay30.params')"
   ]
  },
  {
   "cell_type": "markdown",
   "metadata": {},
   "source": [
    "def get_similar_tokens(query_token, k, embed):\n",
    "    W = embed.weight.data()\n",
    "    x = W[token_to_idx[query_token.upper()]]\n",
    "    # adding 1e-9 for stability\n",
    "    cos = nd.dot(W, x) / (nd.sum(W * W, axis=1) * nd.sum(x * x) + 1e-9).sqrt()\n",
    "    topk = nd.topk(cos, k=k+1, ret_typ='indices').asnumpy().astype('int32')\n",
    "    for i in topk[1:]:  # delet the input\n",
    "        print('cosine sim=%.3f: %s' % (cos[i].asscalar(), (idx_to_token[i])))"
   ]
  },
  {
   "cell_type": "code",
   "execution_count": 9,
   "metadata": {},
   "outputs": [],
   "source": [
    "#textnet.embedding.weight.data()[token_to_idx['man'.upper()]]"
   ]
  },
  {
   "cell_type": "code",
   "execution_count": 10,
   "metadata": {},
   "outputs": [],
   "source": [
    "#get_similar_tokens('STUDENT', 5, net[0])"
   ]
  },
  {
   "cell_type": "markdown",
   "metadata": {},
   "source": [
    "encode the categories."
   ]
  },
  {
   "cell_type": "code",
   "execution_count": 11,
   "metadata": {},
   "outputs": [],
   "source": [
    "y_encoder = {tk: idx for idx, tk in enumerate(set(raw_data['t1fst'].values))}\n",
    "y_shape = len(y_encoder) - 1"
   ]
  },
  {
   "cell_type": "code",
   "execution_count": 12,
   "metadata": {},
   "outputs": [],
   "source": [
    "raw_data=raw_data.replace({\"t1fst\":y_encoder,\"t1sec\":y_encoder})"
   ]
  },
  {
   "cell_type": "code",
   "execution_count": 13,
   "metadata": {},
   "outputs": [
    {
     "data": {
      "text/html": [
       "<div>\n",
       "<style scoped>\n",
       "    .dataframe tbody tr th:only-of-type {\n",
       "        vertical-align: middle;\n",
       "    }\n",
       "\n",
       "    .dataframe tbody tr th {\n",
       "        vertical-align: top;\n",
       "    }\n",
       "\n",
       "    .dataframe thead th {\n",
       "        text-align: right;\n",
       "    }\n",
       "</style>\n",
       "<table border=\"1\" class=\"dataframe\">\n",
       "  <thead>\n",
       "    <tr style=\"text-align: right;\">\n",
       "      <th></th>\n",
       "      <th>mwid</th>\n",
       "      <th>clssn</th>\n",
       "      <th>mtext</th>\n",
       "      <th>t1fst</th>\n",
       "      <th>t1sec</th>\n",
       "      <th>t1fstscr</th>\n",
       "      <th>t1secscr</th>\n",
       "      <th>fo</th>\n",
       "    </tr>\n",
       "  </thead>\n",
       "  <tbody>\n",
       "    <tr>\n",
       "      <th>89</th>\n",
       "      <td>792325</td>\n",
       "      <td>4327432</td>\n",
       "      <td>ANH DEC D IS NOT DUE THE CHECK PAYEE REPORTS N...</td>\n",
       "      <td>25</td>\n",
       "      <td>0</td>\n",
       "      <td>1</td>\n",
       "      <td>0</td>\n",
       "      <td>PC1</td>\n",
       "    </tr>\n",
       "  </tbody>\n",
       "</table>\n",
       "</div>"
      ],
      "text/plain": [
       "      mwid    clssn                                              mtext  t1fst  \\\n",
       "89  792325  4327432  ANH DEC D IS NOT DUE THE CHECK PAYEE REPORTS N...     25   \n",
       "\n",
       "    t1sec  t1fstscr  t1secscr   fo  \n",
       "89      0         1         0  PC1  "
      ]
     },
     "execution_count": 13,
     "metadata": {},
     "output_type": "execute_result"
    }
   ],
   "source": [
    "raw_data[raw_data.clssn==4327432]"
   ]
  },
  {
   "cell_type": "code",
   "execution_count": 14,
   "metadata": {},
   "outputs": [],
   "source": [
    "raw_data['t1fst']=raw_data['t1fst']-1"
   ]
  },
  {
   "cell_type": "markdown",
   "metadata": {},
   "source": [
    "now t1fst == -1 is the unlabeled data"
   ]
  },
  {
   "cell_type": "code",
   "execution_count": 15,
   "metadata": {},
   "outputs": [
    {
     "data": {
      "text/html": [
       "<div>\n",
       "<style scoped>\n",
       "    .dataframe tbody tr th:only-of-type {\n",
       "        vertical-align: middle;\n",
       "    }\n",
       "\n",
       "    .dataframe tbody tr th {\n",
       "        vertical-align: top;\n",
       "    }\n",
       "\n",
       "    .dataframe thead th {\n",
       "        text-align: right;\n",
       "    }\n",
       "</style>\n",
       "<table border=\"1\" class=\"dataframe\">\n",
       "  <thead>\n",
       "    <tr style=\"text-align: right;\">\n",
       "      <th></th>\n",
       "      <th>mwid</th>\n",
       "      <th>clssn</th>\n",
       "      <th>mtext</th>\n",
       "      <th>t1fst</th>\n",
       "      <th>t1sec</th>\n",
       "      <th>t1fstscr</th>\n",
       "      <th>t1secscr</th>\n",
       "      <th>fo</th>\n",
       "    </tr>\n",
       "  </thead>\n",
       "  <tbody>\n",
       "    <tr>\n",
       "      <th>13</th>\n",
       "      <td>730058</td>\n",
       "      <td>4568000</td>\n",
       "      <td>Y 01 561 2560 HP YES MYN 01 0 1018 9 HA IS REQ...</td>\n",
       "      <td>-1</td>\n",
       "      <td>0</td>\n",
       "      <td>0</td>\n",
       "      <td>0</td>\n",
       "      <td>PC1</td>\n",
       "    </tr>\n",
       "    <tr>\n",
       "      <th>21</th>\n",
       "      <td>775038</td>\n",
       "      <td>2347998</td>\n",
       "      <td>A Y 01 RECALCULATE 2560 DM 01 0 1018 018 DATE ...</td>\n",
       "      <td>-1</td>\n",
       "      <td>0</td>\n",
       "      <td>0</td>\n",
       "      <td>0</td>\n",
       "      <td>PC1</td>\n",
       "    </tr>\n",
       "    <tr>\n",
       "      <th>26</th>\n",
       "      <td>856703</td>\n",
       "      <td>7287952</td>\n",
       "      <td>2560 H 9 DONE 2560 PD WIDOW U P WCUE 1001 0 01...</td>\n",
       "      <td>-1</td>\n",
       "      <td>0</td>\n",
       "      <td>0</td>\n",
       "      <td>0</td>\n",
       "      <td>PC1</td>\n",
       "    </tr>\n",
       "    <tr>\n",
       "      <th>35</th>\n",
       "      <td>754466</td>\n",
       "      <td>3502985</td>\n",
       "      <td>A Y 02 BACKPAY 2560 OWN RP 2560 HP SEE RMKS AB...</td>\n",
       "      <td>-1</td>\n",
       "      <td>0</td>\n",
       "      <td>0</td>\n",
       "      <td>0</td>\n",
       "      <td>PC7</td>\n",
       "    </tr>\n",
       "    <tr>\n",
       "      <th>42</th>\n",
       "      <td>753720</td>\n",
       "      <td>12487051</td>\n",
       "      <td>A Y 02 EARNINGS 2560 EARNINGS 2560 POS 2018 AR...</td>\n",
       "      <td>-1</td>\n",
       "      <td>0</td>\n",
       "      <td>0</td>\n",
       "      <td>0</td>\n",
       "      <td>PC1</td>\n",
       "    </tr>\n",
       "    <tr>\n",
       "      <th>46</th>\n",
       "      <td>747350</td>\n",
       "      <td>2127318</td>\n",
       "      <td>Y 02 UNDERPAYMEN 2560 HP Y RE U P W 12 T 01 0 ...</td>\n",
       "      <td>-1</td>\n",
       "      <td>0</td>\n",
       "      <td>0</td>\n",
       "      <td>0</td>\n",
       "      <td>PC1</td>\n",
       "    </tr>\n",
       "    <tr>\n",
       "      <th>49</th>\n",
       "      <td>856484</td>\n",
       "      <td>4245021</td>\n",
       "      <td>BIC D IS CHECKING STATUS OF LSDP DUE PLEASE IS...</td>\n",
       "      <td>-1</td>\n",
       "      <td>0</td>\n",
       "      <td>0</td>\n",
       "      <td>0</td>\n",
       "      <td>PC1</td>\n",
       "    </tr>\n",
       "    <tr>\n",
       "      <th>57</th>\n",
       "      <td>746438</td>\n",
       "      <td>2443612</td>\n",
       "      <td>PLEASE RELEASE U P OF 2 384 00 TO C 1 JULIE HI...</td>\n",
       "      <td>-1</td>\n",
       "      <td>0</td>\n",
       "      <td>0</td>\n",
       "      <td>0</td>\n",
       "      <td>PC1</td>\n",
       "    </tr>\n",
       "    <tr>\n",
       "      <th>82</th>\n",
       "      <td>732526</td>\n",
       "      <td>16567929</td>\n",
       "      <td>A Y 01 BACK PAY 2560 SEE REMARKS T E 01 0 1018...</td>\n",
       "      <td>-1</td>\n",
       "      <td>0</td>\n",
       "      <td>0</td>\n",
       "      <td>0</td>\n",
       "      <td>PC7</td>\n",
       "    </tr>\n",
       "    <tr>\n",
       "      <th>88</th>\n",
       "      <td>731217</td>\n",
       "      <td>3703815</td>\n",
       "      <td>ANH IS INQUIRING ABOUT THE STATUS OF HIS FRENC...</td>\n",
       "      <td>-1</td>\n",
       "      <td>0</td>\n",
       "      <td>0</td>\n",
       "      <td>0</td>\n",
       "      <td>PC8</td>\n",
       "    </tr>\n",
       "    <tr>\n",
       "      <th>108</th>\n",
       "      <td>859852</td>\n",
       "      <td>25869330</td>\n",
       "      <td>VY 02 D 9 2560 HP DONE PREV TO LAFC WCRW 01 0 ...</td>\n",
       "      <td>-1</td>\n",
       "      <td>0</td>\n",
       "      <td>0</td>\n",
       "      <td>0</td>\n",
       "      <td>PC1</td>\n",
       "    </tr>\n",
       "    <tr>\n",
       "      <th>109</th>\n",
       "      <td>736731</td>\n",
       "      <td>1405728</td>\n",
       "      <td>D Y 01 SURSPO PAYM 2560 SEE REMARKS G 2 Q 01 0...</td>\n",
       "      <td>-1</td>\n",
       "      <td>0</td>\n",
       "      <td>0</td>\n",
       "      <td>0</td>\n",
       "      <td>PC1</td>\n",
       "    </tr>\n",
       "    <tr>\n",
       "      <th>113</th>\n",
       "      <td>772886</td>\n",
       "      <td>4606223</td>\n",
       "      <td>PLEASE REISSUES THE CHECK FOR LUMP SUM DEATH P...</td>\n",
       "      <td>-1</td>\n",
       "      <td>0</td>\n",
       "      <td>0</td>\n",
       "      <td>0</td>\n",
       "      <td>PC1</td>\n",
       "    </tr>\n",
       "    <tr>\n",
       "      <th>144</th>\n",
       "      <td>742679</td>\n",
       "      <td>6706854</td>\n",
       "      <td>A Y 01 T 2 U P 2560 SEE REMARKS 4 X 01 0 1018 ...</td>\n",
       "      <td>-1</td>\n",
       "      <td>0</td>\n",
       "      <td>0</td>\n",
       "      <td>0</td>\n",
       "      <td>PC7</td>\n",
       "    </tr>\n",
       "    <tr>\n",
       "      <th>159</th>\n",
       "      <td>735452</td>\n",
       "      <td>4368970</td>\n",
       "      <td>Y 02 TII CK SEE REMARKS DONE 2560 44 O 01 0 20...</td>\n",
       "      <td>-1</td>\n",
       "      <td>0</td>\n",
       "      <td>0</td>\n",
       "      <td>0</td>\n",
       "      <td>PC1</td>\n",
       "    </tr>\n",
       "    <tr>\n",
       "      <th>164</th>\n",
       "      <td>731652</td>\n",
       "      <td>6602470</td>\n",
       "      <td>Y 01 BENEFITS 2560 HP MY 8 01 0 1018 9 2560 HP...</td>\n",
       "      <td>-1</td>\n",
       "      <td>0</td>\n",
       "      <td>0</td>\n",
       "      <td>0</td>\n",
       "      <td>PC1</td>\n",
       "    </tr>\n",
       "    <tr>\n",
       "      <th>177</th>\n",
       "      <td>743697</td>\n",
       "      <td>2423383</td>\n",
       "      <td>A Y 01 T 2 WORKREPO 2560 HP Q 1 01 0 1018 018 ...</td>\n",
       "      <td>-1</td>\n",
       "      <td>0</td>\n",
       "      <td>0</td>\n",
       "      <td>0</td>\n",
       "      <td>PC1</td>\n",
       "    </tr>\n",
       "    <tr>\n",
       "      <th>185</th>\n",
       "      <td>756092</td>\n",
       "      <td>1428384</td>\n",
       "      <td>Y 02 ONLINE INFOADM ONLINE INFO 2560 G 5 DX 01...</td>\n",
       "      <td>-1</td>\n",
       "      <td>0</td>\n",
       "      <td>0</td>\n",
       "      <td>0</td>\n",
       "      <td>PC1</td>\n",
       "    </tr>\n",
       "    <tr>\n",
       "      <th>187</th>\n",
       "      <td>734768</td>\n",
       "      <td>1522266</td>\n",
       "      <td>Y 01 PAYMENT 2560 EJ N 01 0 1018 018 2560 CLMT...</td>\n",
       "      <td>-1</td>\n",
       "      <td>0</td>\n",
       "      <td>0</td>\n",
       "      <td>0</td>\n",
       "      <td>PC1</td>\n",
       "    </tr>\n",
       "    <tr>\n",
       "      <th>203</th>\n",
       "      <td>729406</td>\n",
       "      <td>6102691</td>\n",
       "      <td>CDB PENDING FOR C 1 IN ORDER TO CONT MTH CIC H...</td>\n",
       "      <td>-1</td>\n",
       "      <td>0</td>\n",
       "      <td>0</td>\n",
       "      <td>0</td>\n",
       "      <td>PC1</td>\n",
       "    </tr>\n",
       "    <tr>\n",
       "      <th>204</th>\n",
       "      <td>729893</td>\n",
       "      <td>7428473</td>\n",
       "      <td>APLEASE FIX LEGEND ON HER MBR SHOWS HER MAILIN...</td>\n",
       "      <td>-1</td>\n",
       "      <td>0</td>\n",
       "      <td>0</td>\n",
       "      <td>0</td>\n",
       "      <td>PC1</td>\n",
       "    </tr>\n",
       "    <tr>\n",
       "      <th>216</th>\n",
       "      <td>737507</td>\n",
       "      <td>8104373</td>\n",
       "      <td>A Y 01 DEATH 2560 SEE REMARKS G 7 RJ 01 0 1018...</td>\n",
       "      <td>-1</td>\n",
       "      <td>0</td>\n",
       "      <td>0</td>\n",
       "      <td>0</td>\n",
       "      <td>PC1</td>\n",
       "    </tr>\n",
       "    <tr>\n",
       "      <th>220</th>\n",
       "      <td>736877</td>\n",
       "      <td>2148310</td>\n",
       "      <td>29 MOBLIE A Y 01 SSN INFO 2560 G 18 U 01 0 101...</td>\n",
       "      <td>-1</td>\n",
       "      <td>0</td>\n",
       "      <td>0</td>\n",
       "      <td>0</td>\n",
       "      <td>PC1</td>\n",
       "    </tr>\n",
       "    <tr>\n",
       "      <th>228</th>\n",
       "      <td>856497</td>\n",
       "      <td>3282955</td>\n",
       "      <td>SURVIVING WIDOW CLAIMING BENEFITS DUE 02 REISS...</td>\n",
       "      <td>-1</td>\n",
       "      <td>0</td>\n",
       "      <td>0</td>\n",
       "      <td>0</td>\n",
       "      <td>PC1</td>\n",
       "    </tr>\n",
       "    <tr>\n",
       "      <th>235</th>\n",
       "      <td>738016</td>\n",
       "      <td>8263513</td>\n",
       "      <td>C 2 Y 02 STATUS REQ 2560 DONE 2560 UT N 01 0 2...</td>\n",
       "      <td>-1</td>\n",
       "      <td>0</td>\n",
       "      <td>0</td>\n",
       "      <td>0</td>\n",
       "      <td>PC1</td>\n",
       "    </tr>\n",
       "    <tr>\n",
       "      <th>238</th>\n",
       "      <td>730580</td>\n",
       "      <td>1605155</td>\n",
       "      <td>101 HAS BEEN PENDING AT PC SINCE SEPTEMBER NH ...</td>\n",
       "      <td>-1</td>\n",
       "      <td>0</td>\n",
       "      <td>0</td>\n",
       "      <td>0</td>\n",
       "      <td>PC1</td>\n",
       "    </tr>\n",
       "    <tr>\n",
       "      <th>244</th>\n",
       "      <td>731521</td>\n",
       "      <td>7727433</td>\n",
       "      <td>A Y 01 AUXCHD CLM 2560 HP O 60 01 0 1018 018</td>\n",
       "      <td>-1</td>\n",
       "      <td>0</td>\n",
       "      <td>0</td>\n",
       "      <td>0</td>\n",
       "      <td>PC7</td>\n",
       "    </tr>\n",
       "    <tr>\n",
       "      <th>251</th>\n",
       "      <td>735512</td>\n",
       "      <td>3485961</td>\n",
       "      <td>9 Y 01 CLOSE OUT YES W 1 Q 01 0 1018 018 6 MON...</td>\n",
       "      <td>-1</td>\n",
       "      <td>0</td>\n",
       "      <td>0</td>\n",
       "      <td>0</td>\n",
       "      <td>PC1</td>\n",
       "    </tr>\n",
       "    <tr>\n",
       "      <th>261</th>\n",
       "      <td>730650</td>\n",
       "      <td>10444463</td>\n",
       "      <td>PLEASE NOTE CLAIMANT CALL AND SAID THAT PAYMEN...</td>\n",
       "      <td>-1</td>\n",
       "      <td>0</td>\n",
       "      <td>0</td>\n",
       "      <td>0</td>\n",
       "      <td>PC1</td>\n",
       "    </tr>\n",
       "    <tr>\n",
       "      <th>265</th>\n",
       "      <td>729990</td>\n",
       "      <td>2702376</td>\n",
       "      <td>VY 01 VERIFY 101 2560 SEE RMKS WD 01 0 1018 01...</td>\n",
       "      <td>-1</td>\n",
       "      <td>0</td>\n",
       "      <td>0</td>\n",
       "      <td>0</td>\n",
       "      <td>PC7</td>\n",
       "    </tr>\n",
       "    <tr>\n",
       "      <th>...</th>\n",
       "      <td>...</td>\n",
       "      <td>...</td>\n",
       "      <td>...</td>\n",
       "      <td>...</td>\n",
       "      <td>...</td>\n",
       "      <td>...</td>\n",
       "      <td>...</td>\n",
       "      <td>...</td>\n",
       "    </tr>\n",
       "    <tr>\n",
       "      <th>153554</th>\n",
       "      <td>736644</td>\n",
       "      <td>617098711</td>\n",
       "      <td>Y 02 AUX ADM MRMK AUX 2560 HP SEE REMARKS XB 0...</td>\n",
       "      <td>-1</td>\n",
       "      <td>0</td>\n",
       "      <td>0</td>\n",
       "      <td>0</td>\n",
       "      <td>PC7</td>\n",
       "    </tr>\n",
       "    <tr>\n",
       "      <th>153555</th>\n",
       "      <td>746595</td>\n",
       "      <td>617125763</td>\n",
       "      <td>C 07 Y 01 STATUS REQ 2560 HP JG 0 E 01 0 1018 ...</td>\n",
       "      <td>-1</td>\n",
       "      <td>0</td>\n",
       "      <td>0</td>\n",
       "      <td>0</td>\n",
       "      <td>PC5</td>\n",
       "    </tr>\n",
       "    <tr>\n",
       "      <th>153578</th>\n",
       "      <td>746434</td>\n",
       "      <td>606123064</td>\n",
       "      <td>AND NH LIVING IN CALIFORNIA DOES C 1 NEED A NE...</td>\n",
       "      <td>-1</td>\n",
       "      <td>0</td>\n",
       "      <td>0</td>\n",
       "      <td>0</td>\n",
       "      <td>PC8</td>\n",
       "    </tr>\n",
       "    <tr>\n",
       "      <th>153579</th>\n",
       "      <td>735795</td>\n",
       "      <td>606129534</td>\n",
       "      <td>DO NOT DELETE RETURN TO USA 6 Y 02 A PRES BIC ...</td>\n",
       "      <td>-1</td>\n",
       "      <td>0</td>\n",
       "      <td>0</td>\n",
       "      <td>0</td>\n",
       "      <td>PC8</td>\n",
       "    </tr>\n",
       "    <tr>\n",
       "      <th>153581</th>\n",
       "      <td>743684</td>\n",
       "      <td>612010978</td>\n",
       "      <td>AB 1 B 2 Y 01 US DEPARTUR 2560 YES 7 XX 01 0 1...</td>\n",
       "      <td>-1</td>\n",
       "      <td>0</td>\n",
       "      <td>0</td>\n",
       "      <td>0</td>\n",
       "      <td>PC8</td>\n",
       "    </tr>\n",
       "    <tr>\n",
       "      <th>153582</th>\n",
       "      <td>736238</td>\n",
       "      <td>612302712</td>\n",
       "      <td>Y 01 EARNINGS 2560 SEE COMMENTS 19 L 01 0 1018...</td>\n",
       "      <td>-1</td>\n",
       "      <td>0</td>\n",
       "      <td>0</td>\n",
       "      <td>0</td>\n",
       "      <td>PC8</td>\n",
       "    </tr>\n",
       "    <tr>\n",
       "      <th>153583</th>\n",
       "      <td>752226</td>\n",
       "      <td>634143630</td>\n",
       "      <td>A Y 01 STATUS REQ 2560 SEE REMARKS G 18 01 0 1...</td>\n",
       "      <td>-1</td>\n",
       "      <td>0</td>\n",
       "      <td>0</td>\n",
       "      <td>0</td>\n",
       "      <td>PC7</td>\n",
       "    </tr>\n",
       "    <tr>\n",
       "      <th>153589</th>\n",
       "      <td>745012</td>\n",
       "      <td>767186320</td>\n",
       "      <td>C 08 C 1 Y 01 TERM BENS 2560 HP G 01 0 1018 01...</td>\n",
       "      <td>-1</td>\n",
       "      <td>0</td>\n",
       "      <td>0</td>\n",
       "      <td>0</td>\n",
       "      <td>PC3</td>\n",
       "    </tr>\n",
       "    <tr>\n",
       "      <th>153595</th>\n",
       "      <td>753054</td>\n",
       "      <td>621370797</td>\n",
       "      <td>Y 01 SSI BACKPAYADM YES 7 NL 01 0 1018 018 DAT...</td>\n",
       "      <td>-1</td>\n",
       "      <td>0</td>\n",
       "      <td>0</td>\n",
       "      <td>0</td>\n",
       "      <td>PC3</td>\n",
       "    </tr>\n",
       "    <tr>\n",
       "      <th>153597</th>\n",
       "      <td>857089</td>\n",
       "      <td>623728884</td>\n",
       "      <td>DIB REINSTATMENT NH STOPPED WORKING ALL INFORM...</td>\n",
       "      <td>-1</td>\n",
       "      <td>0</td>\n",
       "      <td>0</td>\n",
       "      <td>0</td>\n",
       "      <td>PC7</td>\n",
       "    </tr>\n",
       "    <tr>\n",
       "      <th>153598</th>\n",
       "      <td>746518</td>\n",
       "      <td>625294503</td>\n",
       "      <td>59280 C 2 Y 02 CLAIMS LEAD FORWARD 2560 TO PC ...</td>\n",
       "      <td>-1</td>\n",
       "      <td>0</td>\n",
       "      <td>0</td>\n",
       "      <td>0</td>\n",
       "      <td>PC8</td>\n",
       "    </tr>\n",
       "    <tr>\n",
       "      <th>153599</th>\n",
       "      <td>732592</td>\n",
       "      <td>626094692</td>\n",
       "      <td>E 9 Y 0330 DAY STAYADMIN SEE RMK 30 DAY DODS 2...</td>\n",
       "      <td>-1</td>\n",
       "      <td>0</td>\n",
       "      <td>0</td>\n",
       "      <td>0</td>\n",
       "      <td>PC8</td>\n",
       "    </tr>\n",
       "    <tr>\n",
       "      <th>153603</th>\n",
       "      <td>730028</td>\n",
       "      <td>717954353</td>\n",
       "      <td>VY 04 EARN ISS ADM CALL COMEIN COME IN LTR XXX...</td>\n",
       "      <td>-1</td>\n",
       "      <td>0</td>\n",
       "      <td>0</td>\n",
       "      <td>0</td>\n",
       "      <td>PC7</td>\n",
       "    </tr>\n",
       "    <tr>\n",
       "      <th>153606</th>\n",
       "      <td>754549</td>\n",
       "      <td>853528137</td>\n",
       "      <td>A Y 01 NOT DISABLE 2560 OU A 01 0 1018 018 DAT...</td>\n",
       "      <td>-1</td>\n",
       "      <td>0</td>\n",
       "      <td>0</td>\n",
       "      <td>0</td>\n",
       "      <td>PC7</td>\n",
       "    </tr>\n",
       "    <tr>\n",
       "      <th>153610</th>\n",
       "      <td>746259</td>\n",
       "      <td>628059574</td>\n",
       "      <td>A Y 01 BACKPAYMENT 2560 HP YES 8 01 0 1018 018...</td>\n",
       "      <td>-1</td>\n",
       "      <td>0</td>\n",
       "      <td>0</td>\n",
       "      <td>0</td>\n",
       "      <td>PC7</td>\n",
       "    </tr>\n",
       "    <tr>\n",
       "      <th>153612</th>\n",
       "      <td>752804</td>\n",
       "      <td>628589819</td>\n",
       "      <td>CALLE 5 NO 5 14 CASA B CHIA CUNDINMARCA COLOMB...</td>\n",
       "      <td>-1</td>\n",
       "      <td>0</td>\n",
       "      <td>0</td>\n",
       "      <td>0</td>\n",
       "      <td>PC8</td>\n",
       "    </tr>\n",
       "    <tr>\n",
       "      <th>153621</th>\n",
       "      <td>730656</td>\n",
       "      <td>599220720</td>\n",
       "      <td>CALLE UNION NUMERO 61 VEGA ALTA PR 00692 NO PE...</td>\n",
       "      <td>-1</td>\n",
       "      <td>0</td>\n",
       "      <td>0</td>\n",
       "      <td>0</td>\n",
       "      <td>PC7</td>\n",
       "    </tr>\n",
       "    <tr>\n",
       "      <th>153622</th>\n",
       "      <td>732284</td>\n",
       "      <td>602015941</td>\n",
       "      <td>A Y 01 UPX T 2 2560 HP YES Q HJ 01 0 1018 9 BI...</td>\n",
       "      <td>-1</td>\n",
       "      <td>0</td>\n",
       "      <td>0</td>\n",
       "      <td>0</td>\n",
       "      <td>PC7</td>\n",
       "    </tr>\n",
       "    <tr>\n",
       "      <th>153636</th>\n",
       "      <td>746351</td>\n",
       "      <td>637763198</td>\n",
       "      <td>POS INPUT TO ADD ELOIDA RODRIGUEZ AS PAYEE ON ...</td>\n",
       "      <td>-1</td>\n",
       "      <td>0</td>\n",
       "      <td>0</td>\n",
       "      <td>0</td>\n",
       "      <td>PC6</td>\n",
       "    </tr>\n",
       "    <tr>\n",
       "      <th>153639</th>\n",
       "      <td>740462</td>\n",
       "      <td>645909115</td>\n",
       "      <td>4 C 5 Y 01 S 9 SUSP 2560 HP ADH 01 0 1018 018 ...</td>\n",
       "      <td>-1</td>\n",
       "      <td>0</td>\n",
       "      <td>0</td>\n",
       "      <td>0</td>\n",
       "      <td>PC7</td>\n",
       "    </tr>\n",
       "    <tr>\n",
       "      <th>153643</th>\n",
       "      <td>738428</td>\n",
       "      <td>674717859</td>\n",
       "      <td>93 DAUGHTER D 6 Y 01 STATUS REQ 2560 HCWA 01 0...</td>\n",
       "      <td>-1</td>\n",
       "      <td>0</td>\n",
       "      <td>0</td>\n",
       "      <td>0</td>\n",
       "      <td>PC3</td>\n",
       "    </tr>\n",
       "    <tr>\n",
       "      <th>153647</th>\n",
       "      <td>752393</td>\n",
       "      <td>647217531</td>\n",
       "      <td>A Y 01 PAYMENT 2560 HAW 01 0 1018 018 ATE CATE...</td>\n",
       "      <td>-1</td>\n",
       "      <td>0</td>\n",
       "      <td>0</td>\n",
       "      <td>0</td>\n",
       "      <td>PC7</td>\n",
       "    </tr>\n",
       "    <tr>\n",
       "      <th>153654</th>\n",
       "      <td>740625</td>\n",
       "      <td>621166350</td>\n",
       "      <td>DO 911 LEV SR</td>\n",
       "      <td>-1</td>\n",
       "      <td>0</td>\n",
       "      <td>0</td>\n",
       "      <td>0</td>\n",
       "      <td>PC5</td>\n",
       "    </tr>\n",
       "    <tr>\n",
       "      <th>153660</th>\n",
       "      <td>749330</td>\n",
       "      <td>625222225</td>\n",
       "      <td>A NH HAD DELAYED RECEIVING HIS BENEFITS FOR DR...</td>\n",
       "      <td>-1</td>\n",
       "      <td>0</td>\n",
       "      <td>0</td>\n",
       "      <td>0</td>\n",
       "      <td>PC5</td>\n",
       "    </tr>\n",
       "    <tr>\n",
       "      <th>153662</th>\n",
       "      <td>742615</td>\n",
       "      <td>625078192</td>\n",
       "      <td>Y 01 DEPORTATION 2560 HP WCL 01 0 1018 018 NH ...</td>\n",
       "      <td>-1</td>\n",
       "      <td>0</td>\n",
       "      <td>0</td>\n",
       "      <td>0</td>\n",
       "      <td>PC5</td>\n",
       "    </tr>\n",
       "    <tr>\n",
       "      <th>153669</th>\n",
       "      <td>861345</td>\n",
       "      <td>766760118</td>\n",
       "      <td>Y 01 PRISON 2560 HP G 8 IT 01 0 1018 018 DATE ...</td>\n",
       "      <td>-1</td>\n",
       "      <td>0</td>\n",
       "      <td>0</td>\n",
       "      <td>0</td>\n",
       "      <td>PC3</td>\n",
       "    </tr>\n",
       "    <tr>\n",
       "      <th>153676</th>\n",
       "      <td>767877</td>\n",
       "      <td>765663786</td>\n",
       "      <td>Y 01 U P 2560 YES LG 01 0 1018 REPRESENTATIVE ...</td>\n",
       "      <td>-1</td>\n",
       "      <td>0</td>\n",
       "      <td>0</td>\n",
       "      <td>0</td>\n",
       "      <td>PC7</td>\n",
       "    </tr>\n",
       "    <tr>\n",
       "      <th>153678</th>\n",
       "      <td>754796</td>\n",
       "      <td>833492346</td>\n",
       "      <td>C 1 Y 01 PAYMENT STA 2560 43 I 01 0 1018 018 D...</td>\n",
       "      <td>-1</td>\n",
       "      <td>0</td>\n",
       "      <td>0</td>\n",
       "      <td>0</td>\n",
       "      <td>PC4</td>\n",
       "    </tr>\n",
       "    <tr>\n",
       "      <th>153687</th>\n",
       "      <td>740265</td>\n",
       "      <td>755033904</td>\n",
       "      <td>Y 01 STATUS 2560 P BW 01 0 1018 018 DATE CATEG...</td>\n",
       "      <td>-1</td>\n",
       "      <td>0</td>\n",
       "      <td>0</td>\n",
       "      <td>0</td>\n",
       "      <td>PC3</td>\n",
       "    </tr>\n",
       "    <tr>\n",
       "      <th>153688</th>\n",
       "      <td>736412</td>\n",
       "      <td>879956565</td>\n",
       "      <td>2 C 1 Y 02 PAYEE ISSUET 2 RP YES WRONG SSN SEE...</td>\n",
       "      <td>-1</td>\n",
       "      <td>0</td>\n",
       "      <td>0</td>\n",
       "      <td>0</td>\n",
       "      <td>PC1</td>\n",
       "    </tr>\n",
       "  </tbody>\n",
       "</table>\n",
       "<p>21060 rows × 8 columns</p>\n",
       "</div>"
      ],
      "text/plain": [
       "          mwid      clssn                                              mtext  \\\n",
       "13      730058    4568000  Y 01 561 2560 HP YES MYN 01 0 1018 9 HA IS REQ...   \n",
       "21      775038    2347998  A Y 01 RECALCULATE 2560 DM 01 0 1018 018 DATE ...   \n",
       "26      856703    7287952  2560 H 9 DONE 2560 PD WIDOW U P WCUE 1001 0 01...   \n",
       "35      754466    3502985  A Y 02 BACKPAY 2560 OWN RP 2560 HP SEE RMKS AB...   \n",
       "42      753720   12487051  A Y 02 EARNINGS 2560 EARNINGS 2560 POS 2018 AR...   \n",
       "...        ...        ...                                                ...   \n",
       "153669  861345  766760118  Y 01 PRISON 2560 HP G 8 IT 01 0 1018 018 DATE ...   \n",
       "153676  767877  765663786  Y 01 U P 2560 YES LG 01 0 1018 REPRESENTATIVE ...   \n",
       "153678  754796  833492346  C 1 Y 01 PAYMENT STA 2560 43 I 01 0 1018 018 D...   \n",
       "153687  740265  755033904  Y 01 STATUS 2560 P BW 01 0 1018 018 DATE CATEG...   \n",
       "153688  736412  879956565  2 C 1 Y 02 PAYEE ISSUET 2 RP YES WRONG SSN SEE...   \n",
       "\n",
       "        t1fst  t1sec  t1fstscr  t1secscr   fo  \n",
       "13         -1      0         0         0  PC1  \n",
       "21         -1      0         0         0  PC1  \n",
       "26         -1      0         0         0  PC1  \n",
       "35         -1      0         0         0  PC7  \n",
       "42         -1      0         0         0  PC1  \n",
       "...       ...    ...       ...       ...  ...  \n",
       "153669     -1      0         0         0  PC3  \n",
       "153676     -1      0         0         0  PC7  \n",
       "153678     -1      0         0         0  PC4  \n",
       "153687     -1      0         0         0  PC3  \n",
       "153688     -1      0         0         0  PC1  \n",
       "\n",
       "[21060 rows x 8 columns]"
      ]
     },
     "execution_count": 15,
     "metadata": {},
     "output_type": "execute_result"
    }
   ],
   "source": [
    "raw_data[raw_data.t1fst==-1]"
   ]
  },
  {
   "cell_type": "markdown",
   "metadata": {},
   "source": [
    "a sample of pre-processed mdw:"
   ]
  },
  {
   "cell_type": "code",
   "execution_count": 16,
   "metadata": {},
   "outputs": [
    {
     "data": {
      "text/plain": [
       "'Y 01 SMI REFUND 2560 HP SEE REMARKS LZB 01 0 1018 9 CLAIMANT CAME INTO FO 012 REGARDING HER SMI PREMIUMS THAT WERE DEDUCTED FROM HER FIRST SSA CHECK DATED APPEARS SSA IS DEDUCTING PREMIUMS FROM APRIL THROUGH JULY FROM THIS PAYMENT HOWEVER CLAIMANT SENT IN A CHECK TO MEDICARE IN THE AMOUNT OF 271 TO COVER APRIL AND MAY KNOWING HER CHECK WOULD BEGIN IN JUNE AND THAT WE WOULD DEDUCT THAT PREMIUM PLEASE REFUND NH THREE MONTHS OF PREMIUMS SINCE SHE PAID THROUGH JULY WE SHOULD REFUND HER THE 271 FOR APRIL AND MAY THE CHECK SHE SENT AND JULY THAT WE DEDUCTED FROM HER JUNE CHECK EARLY THE TOTAL REFUND SHOULD BE 406 50 THANK YOU TRX 012'"
      ]
     },
     "execution_count": 16,
     "metadata": {},
     "output_type": "execute_result"
    }
   ],
   "source": [
    "raw_data['mtext'][1]"
   ]
  },
  {
   "cell_type": "markdown",
   "metadata": {},
   "source": [
    "picking cases we are relatively confident as training data(labeled_data). for those that we are not sure, it is no_label_data, which is not used in training or testing, but we tried to predict these after training."
   ]
  },
  {
   "cell_type": "code",
   "execution_count": 17,
   "metadata": {},
   "outputs": [],
   "source": [
    "no_label_data = raw_data[raw_data.t1fst==-1][[\"mtext\",\"t1fst\"]]\n",
    "labeled_data = raw_data[raw_data.t1fstscr/raw_data.t1secscr>1.25][[\"mtext\",\"t1fst\"]]"
   ]
  },
  {
   "cell_type": "markdown",
   "metadata": {},
   "source": [
    "last look of the processed mdw, labeled or unlabeled."
   ]
  },
  {
   "cell_type": "code",
   "execution_count": 18,
   "metadata": {},
   "outputs": [
    {
     "data": {
      "text/html": [
       "<div>\n",
       "<style scoped>\n",
       "    .dataframe tbody tr th:only-of-type {\n",
       "        vertical-align: middle;\n",
       "    }\n",
       "\n",
       "    .dataframe tbody tr th {\n",
       "        vertical-align: top;\n",
       "    }\n",
       "\n",
       "    .dataframe thead th {\n",
       "        text-align: right;\n",
       "    }\n",
       "</style>\n",
       "<table border=\"1\" class=\"dataframe\">\n",
       "  <thead>\n",
       "    <tr style=\"text-align: right;\">\n",
       "      <th></th>\n",
       "      <th>mtext</th>\n",
       "      <th>t1fst</th>\n",
       "    </tr>\n",
       "  </thead>\n",
       "  <tbody>\n",
       "    <tr>\n",
       "      <th>0</th>\n",
       "      <td>Y 01 DEATH UPX 2560 HP PLEASE SEE W 1 RW 01 0 ...</td>\n",
       "      <td>27</td>\n",
       "    </tr>\n",
       "    <tr>\n",
       "      <th>1</th>\n",
       "      <td>Y 01 SMI REFUND 2560 HP SEE REMARKS LZB 01 0 1...</td>\n",
       "      <td>25</td>\n",
       "    </tr>\n",
       "    <tr>\n",
       "      <th>2</th>\n",
       "      <td>A Y 01 SMI 2560 HSWI 01 0 1018 018 DATE CATEGO...</td>\n",
       "      <td>25</td>\n",
       "    </tr>\n",
       "    <tr>\n",
       "      <th>3</th>\n",
       "      <td>T Y 01 ESTIMATE 2560 2 IVY 01 0 1018 018 DATE ...</td>\n",
       "      <td>16</td>\n",
       "    </tr>\n",
       "    <tr>\n",
       "      <th>5</th>\n",
       "      <td>PLEASE PROVIDE STATUS OF DEC EFFECT THANK YOU ...</td>\n",
       "      <td>7</td>\n",
       "    </tr>\n",
       "  </tbody>\n",
       "</table>\n",
       "</div>"
      ],
      "text/plain": [
       "                                               mtext  t1fst\n",
       "0  Y 01 DEATH UPX 2560 HP PLEASE SEE W 1 RW 01 0 ...     27\n",
       "1  Y 01 SMI REFUND 2560 HP SEE REMARKS LZB 01 0 1...     25\n",
       "2  A Y 01 SMI 2560 HSWI 01 0 1018 018 DATE CATEGO...     25\n",
       "3  T Y 01 ESTIMATE 2560 2 IVY 01 0 1018 018 DATE ...     16\n",
       "5  PLEASE PROVIDE STATUS OF DEC EFFECT THANK YOU ...      7"
      ]
     },
     "execution_count": 18,
     "metadata": {},
     "output_type": "execute_result"
    }
   ],
   "source": [
    "labeled_data.head()"
   ]
  },
  {
   "cell_type": "code",
   "execution_count": 19,
   "metadata": {},
   "outputs": [
    {
     "data": {
      "text/html": [
       "<div>\n",
       "<style scoped>\n",
       "    .dataframe tbody tr th:only-of-type {\n",
       "        vertical-align: middle;\n",
       "    }\n",
       "\n",
       "    .dataframe tbody tr th {\n",
       "        vertical-align: top;\n",
       "    }\n",
       "\n",
       "    .dataframe thead th {\n",
       "        text-align: right;\n",
       "    }\n",
       "</style>\n",
       "<table border=\"1\" class=\"dataframe\">\n",
       "  <thead>\n",
       "    <tr style=\"text-align: right;\">\n",
       "      <th></th>\n",
       "      <th>mtext</th>\n",
       "      <th>t1fst</th>\n",
       "    </tr>\n",
       "  </thead>\n",
       "  <tbody>\n",
       "    <tr>\n",
       "      <th>13</th>\n",
       "      <td>Y 01 561 2560 HP YES MYN 01 0 1018 9 HA IS REQ...</td>\n",
       "      <td>-1</td>\n",
       "    </tr>\n",
       "    <tr>\n",
       "      <th>21</th>\n",
       "      <td>A Y 01 RECALCULATE 2560 DM 01 0 1018 018 DATE ...</td>\n",
       "      <td>-1</td>\n",
       "    </tr>\n",
       "    <tr>\n",
       "      <th>26</th>\n",
       "      <td>2560 H 9 DONE 2560 PD WIDOW U P WCUE 1001 0 01...</td>\n",
       "      <td>-1</td>\n",
       "    </tr>\n",
       "    <tr>\n",
       "      <th>35</th>\n",
       "      <td>A Y 02 BACKPAY 2560 OWN RP 2560 HP SEE RMKS AB...</td>\n",
       "      <td>-1</td>\n",
       "    </tr>\n",
       "    <tr>\n",
       "      <th>42</th>\n",
       "      <td>A Y 02 EARNINGS 2560 EARNINGS 2560 POS 2018 AR...</td>\n",
       "      <td>-1</td>\n",
       "    </tr>\n",
       "  </tbody>\n",
       "</table>\n",
       "</div>"
      ],
      "text/plain": [
       "                                                mtext  t1fst\n",
       "13  Y 01 561 2560 HP YES MYN 01 0 1018 9 HA IS REQ...     -1\n",
       "21  A Y 01 RECALCULATE 2560 DM 01 0 1018 018 DATE ...     -1\n",
       "26  2560 H 9 DONE 2560 PD WIDOW U P WCUE 1001 0 01...     -1\n",
       "35  A Y 02 BACKPAY 2560 OWN RP 2560 HP SEE RMKS AB...     -1\n",
       "42  A Y 02 EARNINGS 2560 EARNINGS 2560 POS 2018 AR...     -1"
      ]
     },
     "execution_count": 19,
     "metadata": {},
     "output_type": "execute_result"
    }
   ],
   "source": [
    "no_label_data.head()"
   ]
  },
  {
   "cell_type": "code",
   "execution_count": 20,
   "metadata": {},
   "outputs": [
    {
     "data": {
      "text/plain": [
       "(118276, 2)"
      ]
     },
     "execution_count": 20,
     "metadata": {},
     "output_type": "execute_result"
    }
   ],
   "source": [
    "labeled_data.shape"
   ]
  },
  {
   "cell_type": "markdown",
   "metadata": {},
   "source": [
    "divide training and test set. the code is not very straightforward. anyhow..."
   ]
  },
  {
   "cell_type": "code",
   "execution_count": 21,
   "metadata": {},
   "outputs": [],
   "source": [
    "from random import sample \n",
    "labeled_data = labeled_data.drop_duplicates(keep=False)\n",
    "test_data = labeled_data.sample(n=len(labeled_data)//5, replace=False).drop_duplicates(keep=False)\n",
    "train_data = pd.concat([labeled_data, test_data, test_data]).drop_duplicates(keep=False)\n",
    "\n",
    "#train_data = labeled_data.loc[:len(labeled_data)*4//5,]\n",
    "#test_data = labeled_data.loc[len(labeled_data)*4//5+1:,]"
   ]
  },
  {
   "cell_type": "code",
   "execution_count": 22,
   "metadata": {},
   "outputs": [
    {
     "data": {
      "text/plain": [
       "((23546, 2), (94184, 2))"
      ]
     },
     "execution_count": 22,
     "metadata": {},
     "output_type": "execute_result"
    }
   ],
   "source": [
    "test_data.shape,train_data.shape"
   ]
  },
  {
   "cell_type": "markdown",
   "metadata": {},
   "source": [
    "how you do conv:"
   ]
  },
  {
   "cell_type": "code",
   "execution_count": 23,
   "metadata": {},
   "outputs": [],
   "source": [
    "def corr1d(X, K):\n",
    "    w = K.shape[0]\n",
    "    Y = nd.zeros((X.shape[0] - w + 1))\n",
    "    for i in range(Y.shape[0]):\n",
    "        Y[i] = (X[i: i + w] * K).sum()\n",
    "    return Y"
   ]
  },
  {
   "cell_type": "code",
   "execution_count": 24,
   "metadata": {},
   "outputs": [],
   "source": [
    "def corr1d_multi_in(X, K):\n",
    "    return nd.add_n(*[corr1d(x, k) for x, k in zip(X, K)])"
   ]
  },
  {
   "cell_type": "code",
   "execution_count": 25,
   "metadata": {},
   "outputs": [],
   "source": [
    "def get_tokenized_mdw(data):\n",
    "    \"\"\"Get the tokenized mdw data set for classification.\"\"\"\n",
    "    def tokenizer(text):\n",
    "        return [tok.upper() for tok in text.split(' ')]\n",
    "    return [tokenizer(text) for text, _ in data]"
   ]
  },
  {
   "cell_type": "code",
   "execution_count": 26,
   "metadata": {},
   "outputs": [],
   "source": [
    "#def get_vocab_mdw(data):\n",
    "#    \"\"\"Get the vocab for the mdw data set for classification.\"\"\"\n",
    "#    tokenized_data = get_tokenized_mdw(data)\n",
    "#    counter = collections.Counter([tk for st in tokenized_data for tk in st])\n",
    "#    return text.vocab.Vocabulary(counter, min_freq=5)"
   ]
  },
  {
   "cell_type": "markdown",
   "metadata": {},
   "source": [
    "before training, we need to preprocess the mdws. padding and truncation are done here. then words are replaced by indices."
   ]
  },
  {
   "cell_type": "code",
   "execution_count": 27,
   "metadata": {},
   "outputs": [],
   "source": [
    "def preprocess_mdw(data, vocab):\n",
    "    \"\"\"Preprocess the mdw data set for classification.\"\"\"\n",
    "    max_l = 200\n",
    "\n",
    "    def pad(x):\n",
    "        return x[:max_l] if len(x) > max_l else x + [0] * (max_l - len(x))\n",
    "\n",
    "    tokenized_data = get_tokenized_mdw(data)\n",
    "    features = nd.array([pad(vocab.to_indices(x)) for x in tokenized_data])\n",
    "    labels = nd.array([score for _, score in data])\n",
    "    return features, labels"
   ]
  },
  {
   "cell_type": "code",
   "execution_count": 28,
   "metadata": {},
   "outputs": [],
   "source": [
    "train_data=[[x['mtext'],x['t1fst']] for _,x in train_data.iterrows()] \n",
    "\n",
    "test_data=[[x['mtext'],x['t1fst']] for _,x in test_data.iterrows()] "
   ]
  },
  {
   "cell_type": "code",
   "execution_count": 29,
   "metadata": {},
   "outputs": [],
   "source": [
    "nolabel_data=[[x['mtext'],x['t1fst']] for _,x in no_label_data.iterrows()] \n",
    "nolabel_iter = gdata.DataLoader(gdata.ArrayDataset(\n",
    "    *preprocess_mdw(nolabel_data, vocab)), 32)"
   ]
  },
  {
   "cell_type": "markdown",
   "metadata": {},
   "source": [
    "define batch size and data iterators. "
   ]
  },
  {
   "cell_type": "code",
   "execution_count": 30,
   "metadata": {
    "scrolled": true
   },
   "outputs": [],
   "source": [
    "batch_size = 32\n",
    "train_iter = gdata.DataLoader(gdata.ArrayDataset(\n",
    "    *preprocess_mdw(train_data, vocab)), batch_size, shuffle=True)\n",
    "test_iter = gdata.DataLoader(gdata.ArrayDataset(\n",
    "    *preprocess_mdw(test_data, vocab)), batch_size)"
   ]
  },
  {
   "cell_type": "markdown",
   "metadata": {},
   "source": [
    "mapping Zhong's code to the actual categories."
   ]
  },
  {
   "cell_type": "code",
   "execution_count": 31,
   "metadata": {},
   "outputs": [],
   "source": [
    "C_C={\n",
    "    \"C1\":\"Death Underpayment\",\n",
    "\"C10\":\"Workers Compensation\",\n",
    "\"C11\":\"Garnishment\",\n",
    "\"C12\":\"Tax Levy\",\n",
    "\"C13\":\"Attorney\",\n",
    "\"C14\":\"Windfall Elimination Provision\",\n",
    "\"C15\":\"Government Pension Offset\",\n",
    "\"C16\":\"Change of Address\",\n",
    "\"C17\":\"Direct Deposit \",\n",
    "\"C18\":\"Reinstatement\",\n",
    "\"C19\":\"Benefit Explanation\",\n",
    "\"C2\":\"SSI Offset\",\n",
    "\"C20\":\"Voluntary Tax Withholding\",\n",
    "\"C21\":\"Benefit Estimate\",\n",
    "\"C22\":\"Benefit Adjustment\",\n",
    "\"C23\":\"Limited Payability\",\n",
    "\"C24\":\"Returned Check\",\n",
    "\"C25\":\"DIBCESS\",\n",
    "\"C26\":\"Anomalous Claim\",\n",
    "\"C27\":\"1099 Benefit Statement\",\n",
    "\"C28\":\"Work and Earnings\",\n",
    "\"C29\":\"Steigerwald\",\n",
    "\"C3\":\"Medicare\",\n",
    "\"C30\":\"Recon\",\n",
    "\"C4\":\"Claim\",\n",
    "\"C5\":\"Conserved Funds\",\n",
    "\"C6\":\"Recomp\",\n",
    "\"C7\":\"Student Benefits\",\n",
    "\"C8\":\"Non-receipt \",\n",
    "\"C9\":\"Overpayment\"}\n"
   ]
  },
  {
   "cell_type": "markdown",
   "metadata": {},
   "source": [
    "import pickle as pk\n",
    "caches_url = 'X:/Projects/MDW/temp/code/cachesMay30.sav'\n",
    "caches = {'idx_to_token': idx_to_token, 'token_to_idx': token_to_idx,'vocab':vocab,'input_dim':len(idx_to_token),\n",
    "         'y_shape':y_shape,'y_encoder':y_encoder,'C_C':C_C,'test_data':test_data}\n",
    "pk.dump(caches,open(caches_url,'wb'))"
   ]
  },
  {
   "cell_type": "code",
   "execution_count": 32,
   "metadata": {},
   "outputs": [],
   "source": [
    "class TextCNN(nn.Block):\n",
    "    def __init__(self, vocab, embed_size, kernel_sizes, num_channels,\n",
    "                 **kwargs):\n",
    "        super(TextCNN, self).__init__(**kwargs)\n",
    "        self.embedding = nn.Embedding(len(vocab), embed_size)\n",
    "        # two embeddings here. constant_embedding is pre-trained, does not enter training\n",
    "        # embedding enters training.\n",
    "        self.constant_embedding = nn.Embedding(len(vocab), embed_size)\n",
    "        #dropout layer prevents overfitting\n",
    "        self.dropout = nn.Dropout(0.5)\n",
    "        self.decoder = nn.Dense(y_shape)\n",
    "        self.pool = nn.GlobalMaxPool1D()\n",
    "        self.convs = nn.Sequential()  # \n",
    "        for c, k in zip(num_channels, kernel_sizes):\n",
    "            self.convs.add(nn.Conv1D(c, k, activation='relu'))\n",
    "\n",
    "    def forward(self, inputs):\n",
    "        # concat two embeddings together\n",
    "        embeddings = nd.concat(\n",
    "            self.embedding(inputs), self.constant_embedding(inputs), dim=2)\n",
    "        # this is the conv part.\n",
    "        embeddings = embeddings.transpose((0, 2, 1))\n",
    "        encoding = nd.concat(*[nd.flatten(\n",
    "            self.pool(conv(embeddings))) for conv in self.convs], dim=1)\n",
    "        # drop out and then a dense layer. \n",
    "        outputs = self.decoder(self.dropout(encoding))\n",
    "        return outputs"
   ]
  },
  {
   "cell_type": "code",
   "execution_count": 33,
   "metadata": {},
   "outputs": [],
   "source": [
    "def to_vec(query_token, embed):\n",
    "    W = embed.weight.data()\n",
    "    return W[token_to_idx[query_token]]"
   ]
  },
  {
   "cell_type": "markdown",
   "metadata": {},
   "source": [
    "here we have 400 unigram filters, 100 bigram, 100 trigram and 50 quagram. is it how you spell it? textCNN initialized here."
   ]
  },
  {
   "cell_type": "code",
   "execution_count": 34,
   "metadata": {},
   "outputs": [],
   "source": [
    "embed_size, kernel_sizes, nums_channels = 50, [1, 2, 3, 4], [400, 100,100,50]\n",
    "ctx = d2l.try_all_gpus()[0]\n",
    "textnet = TextCNN(vocab, embed_size, kernel_sizes, nums_channels)\n",
    "textnet.initialize(init.Xavier(), ctx=ctx)"
   ]
  },
  {
   "cell_type": "markdown",
   "metadata": {},
   "source": [
    "load the previous trained embedding."
   ]
  },
  {
   "cell_type": "code",
   "execution_count": 35,
   "metadata": {},
   "outputs": [],
   "source": [
    "mdw_embedding=text.embedding.CustomEmbedding( r'\\\\nsc-isln-01-smb.nas.ssa.gov\\ace/Projects/MDW/temp/code/mdw_dic_50_normalized.txt', vocabulary=vocab)"
   ]
  },
  {
   "cell_type": "markdown",
   "metadata": {},
   "source": [
    "this is how we tell mxnet not to update constant_embedding during training."
   ]
  },
  {
   "cell_type": "code",
   "execution_count": 36,
   "metadata": {},
   "outputs": [],
   "source": [
    "textnet.embedding.weight.set_data(mdw_embedding.idx_to_vec)\n",
    "textnet.constant_embedding.weight.set_data(mdw_embedding.idx_to_vec)\n",
    "textnet.constant_embedding.collect_params().setattr('grad_req', 'null')"
   ]
  },
  {
   "cell_type": "code",
   "execution_count": 37,
   "metadata": {
    "scrolled": true
   },
   "outputs": [
    {
     "data": {
      "text/plain": [
       "TextCNN(\n",
       "  (embedding): Embedding(49628 -> 50, float32)\n",
       "  (constant_embedding): Embedding(49628 -> 50, float32)\n",
       "  (dropout): Dropout(p = 0.5, axes=())\n",
       "  (decoder): Dense(None -> 30, linear)\n",
       "  (pool): GlobalMaxPool1D(size=(1,), stride=(1,), padding=(0,), ceil_mode=True)\n",
       "  (convs): Sequential(\n",
       "    (0): Conv1D(None -> 400, kernel_size=(1,), stride=(1,))\n",
       "    (1): Conv1D(None -> 100, kernel_size=(2,), stride=(1,))\n",
       "    (2): Conv1D(None -> 100, kernel_size=(3,), stride=(1,))\n",
       "    (3): Conv1D(None -> 50, kernel_size=(4,), stride=(1,))\n",
       "  )\n",
       ")"
      ]
     },
     "execution_count": 37,
     "metadata": {},
     "output_type": "execute_result"
    }
   ],
   "source": [
    "textnet "
   ]
  },
  {
   "cell_type": "code",
   "execution_count": 38,
   "metadata": {
    "scrolled": false
   },
   "outputs": [
    {
     "name": "stdout",
     "output_type": "stream",
     "text": [
      "training on cpu(0)\n",
      "epoch 1, loss 0.4303, train acc 0.881, test acc 0.950, time 1309.3 sec\n",
      "epoch 2, loss 0.1907, train acc 0.942, test acc 0.956, time 1325.5 sec\n",
      "epoch 3, loss 0.1562, train acc 0.953, test acc 0.959, time 1331.4 sec\n",
      "epoch 4, loss 0.1326, train acc 0.961, test acc 0.957, time 1324.4 sec\n"
     ]
    }
   ],
   "source": [
    "lr, num_epochs = 0.001, 4\n",
    "trainer = gluon.Trainer(textnet.collect_params(), 'adam', {'learning_rate': lr})\n",
    "loss = gloss.SoftmaxCrossEntropyLoss()\n",
    "d2l.train(train_iter, test_iter, textnet, loss, trainer, ctx, num_epochs)"
   ]
  },
  {
   "cell_type": "code",
   "execution_count": 37,
   "metadata": {},
   "outputs": [],
   "source": [
    "def softmax(X):\n",
    "    X_exp =X.exp()\n",
    "    partition = X_exp.sum(axis=1, keepdims=True)\n",
    "    return X_exp / partition  \n",
    "\n",
    "def mdw_predict(x,textnet,output=True):\n",
    "    '''x is in ['test',label] format'''\n",
    "    if len(x)==1:\n",
    "        x = x[0]\n",
    "    if output == True:\n",
    "        print(x[0])\n",
    "    if x[1] != -1 and output == True:\n",
    "        print('True label is: %s'%C_C[inv_map[x[1]]])\n",
    "    y = textnet(preprocess_mdw([x], vocab)[0].as_in_context(mx.gpu()))\n",
    "    if output == True:\n",
    "        print(\"Predicted label is: %s\"%C_C[inv_map[y.argmax(axis=1).asscalar()]])\n",
    "        m=softmax(y).asnumpy()\n",
    "        plt.hist(m)\n",
    "        plt.show()\n",
    "        plt.close()\n",
    "    return C_C[inv_map[y.argmax(axis=1).asscalar()]],softmax(y).max().asscalar()"
   ]
  },
  {
   "cell_type": "code",
   "execution_count": 38,
   "metadata": {},
   "outputs": [],
   "source": [
    "inv_map = {v-1: k for k, v in y_encoder.items()}"
   ]
  },
  {
   "cell_type": "code",
   "execution_count": 49,
   "metadata": {
    "collapsed": true
   },
   "outputs": [],
   "source": [
    "#temp = []\n",
    "#for x, y in nolabel_data:\n",
    "#    y = textnet(preprocess_mdw([[x,y]], vocab)[0].as_in_context(mx.gpu()))\n",
    "#    if y.max(axis=1)<0.5:\n",
    "#        temp.append(x)"
   ]
  },
  {
   "cell_type": "code",
   "execution_count": 39,
   "metadata": {},
   "outputs": [],
   "source": [
    "import mxnet as mx"
   ]
  },
  {
   "cell_type": "code",
   "execution_count": 40,
   "metadata": {},
   "outputs": [
    {
     "data": {
      "text/plain": [
       "[['C 2 Y 02 SURVIVOR ADM T 2 OP 2560 IIAA 01 0 2036 036 DATE CATEGORY ADM CONTACT PERSON IS THE CLAIMANT MOTHER DEBRA WALLS CALLED BECAUSE C 2 WAS RECEIVING BENEFITS ON HER SSN 137 70 4109 C 1 BUT THEY STOPPED DUE TO HER DIBCESS THEY ALSO STOPPED ON FATHER S RECORD 152 74 1460 C 2 BUT C 2 WAS STILL DISABLED GETTING SSI DIB BENEFITS WOULDN T HE BE ENTITLED TO A SURVIVOR S BENEFIT AS A CDB ON FATHER S RECORD PLEASE REVIEW THANKS CODE PC 5 UNIT MOD 3 JOB TITLE TST EE MARY SOSNOWSKI DATE CATEGORY 2560 PAYEE NAME DEBRA WALLS FOR JAMES A WILLIAMS CONTACT ADDRESS PO BOX 118 CLEMENTON NJ 08021 0215 CONTACT PHONE PHONE LOCATION HOME PAYEE QUESTIONING OVERPAYMENT C 2 IS LAF T 6 DICESS WAS NOT ENTITLED NOR RECEIVEDANY MONTHLY BENEFITS FROM NH WAS ENTITLED TO BENEFITS ON CLAIM NBR 137 70 4109 C 1 PAYMENTS WERE NULL AS OF PLS REV RECORDS TO DETERMINE REASON FOR OVERPAYMENT TSCJ 06 4421 INIETO',\n",
       "  14]]"
      ]
     },
     "execution_count": 40,
     "metadata": {},
     "output_type": "execute_result"
    }
   ],
   "source": [
    "random.sample(test_data,1)"
   ]
  },
  {
   "cell_type": "code",
   "execution_count": 44,
   "metadata": {},
   "outputs": [
    {
     "name": "stdout",
     "output_type": "stream",
     "text": [
      "A Y 01 T 2 OP 2560 Y 7 ZJR 01 0 1018 018 DATE CATEGORY 2560 CONTACT PERSON IS THE CLAIMANT D NH REQUESTED A DETAILED EXPLANATION ON O P E 01 EBAL 10919 34 ALSO FOR C 1 AND C 2 PROTEST STOP RECOVERY WAS INPUT CODE D 72 UNIT 50048 JOB TITLE TSR EE JOEL R SANCHEZ\n",
      "True label is: Overpayment\n",
      "Predicted label is: Overpayment\n"
     ]
    },
    {
     "data": {
      "image/png": "[encoded data removed]",
      "text/plain": [
       "<Figure size 432x288 with 1 Axes>"
      ]
     },
     "metadata": {
      "needs_background": "light"
     },
     "output_type": "display_data"
    },
    {
     "data": {
      "text/plain": [
       "('Overpayment', 0.9957853)"
      ]
     },
     "execution_count": 44,
     "metadata": {},
     "output_type": "execute_result"
    }
   ],
   "source": [
    "mdw_predict(random.sample(test_data,1),textnet,output=True)"
   ]
  },
  {
   "cell_type": "code",
   "execution_count": null,
   "metadata": {},
   "outputs": [],
   "source": [
    "stop here. following are just random tests."
   ]
  },
  {
   "cell_type": "code",
   "execution_count": 128,
   "metadata": {},
   "outputs": [],
   "source": [
    "def cleanText(text):\n",
    "    phone = re.compile(r'\\b\\d{3}.{0,1}\\d{3}.{0,1}\\d{4}(HOME|CELL|MOBILE|PER|OTHER)?\\b') \n",
    "    date = re.compile(r'\\d{1,2}/+\\d{1,2}/+\\d{2,4}')\n",
    "    date1 = re.compile(r'\\d{2}/{0,1}\\d{2}/{0,1}\\d{2,4}')\n",
    "    state = re.compile(r'\\b(AL|AK|AZ|AR|CA|CO|CT|DE|FL|GA|HI|ID|IL|IN|IA|KS|KY|LA|ME|MD|MA|MI|MN|MS|MO|MT|NE|NV|NH|NJ|NM|NY|NC|ND|OH|OK|OR|PA|RI|SC|SD|TN|TX|UT|VT|VA|WA|WV|WI|WY)\\d{5}\\b')\n",
    "    country = re.compile(r'(JAPAN|MEXICO|ISRAEL|CHINA|THAILAND|PANAMA|AUSTRALIA|CANADA|PHILIPPINES|HOLLAND|INDIA|COSTA RICA|UNITED KINDOM|UK|GERMANY|BRAZIL|DOMINICAN|TAIWAN|KOREA|RUSSIA|GUADERRAMA)')\n",
    "\n",
    "    test = apply_regex(clean_text,phone,text)\n",
    "    test = apply_regex(rid_of_regex,state,test)\n",
    "    test = apply_regex(rid_of_regex,country,test)\n",
    "    test = apply_regex(clean_text,date,test)\n",
    "    test = apply_regex(clean_text,date1,test)\n",
    "    test= list(map(lambda x : ' '.join(x),map(lambda x :[x[0]+x[1] for x in re.findall('([A-Z]+)|([0-9]+)',x)],test)))\n",
    "    return test"
   ]
  },
  {
   "cell_type": "code",
   "execution_count": 287,
   "metadata": {},
   "outputs": [
    {
     "data": {
      "text/plain": [
       "1.0"
      ]
     },
     "execution_count": 287,
     "metadata": {},
     "output_type": "execute_result"
    }
   ],
   "source": [
    "import nltk\n",
    "w1 = set('b')\n",
    "w2 = set('attorney')\n",
    " \n",
    "nltk.jaccard_distance(w1, w2)\n",
    "\n"
   ]
  },
  {
   "cell_type": "code",
   "execution_count": 403,
   "metadata": {},
   "outputs": [
    {
     "name": "stdout",
     "output_type": "stream",
     "text": [
      "223.7227144241333\n"
     ]
    }
   ],
   "source": [
    "import time\n",
    "start = time.time()\n",
    "for t in test_data:\n",
    "    mdw_predict(t,textnet)\n",
    "print(time.time()-start)"
   ]
  },
  {
   "cell_type": "code",
   "execution_count": 402,
   "metadata": {},
   "outputs": [
    {
     "name": "stdout",
     "output_type": "stream",
     "text": [
      "109822\n"
     ]
    }
   ],
   "source": [
    "print(len(test_data))"
   ]
  },
  {
   "cell_type": "code",
   "execution_count": 132,
   "metadata": {},
   "outputs": [
    {
     "data": {
      "text/plain": [
       "'A Y 01 S 6 ISSUE 2560 Q 1 01 0 1018 018 DATE CATEGORY 2560 CONTACT PERSON IS THE CLAIMANT NH CALLING BECAUSE OF NOTICE REC D INFORMING HIM OF SUSPENDED STATUS NH SUSPENDED DUE TO ADDRESS ADDRESS IS VALID HE REC D THE NOTICE SO ADDRESS IS GOOD IF THERE IS A OTHER REASON FOR SUSPENSE PLEASE CONTACT NH DIRECTLY LETTER ISSUED WAS NOT SPECIFIC NH CLAIMS CDRFORMS WERE RETURNED PLEASE DEVLEOP THANK YOU CODE G 20 UNIT 95 CMS JOB TITLE TSR EE CHRISTINA M STOSHICK'"
      ]
     },
     "execution_count": 132,
     "metadata": {},
     "output_type": "execute_result"
    }
   ],
   "source": [
    "random.sample(list(no_label_data.mtext.values),1)[0]"
   ]
  },
  {
   "cell_type": "code",
   "execution_count": 168,
   "metadata": {},
   "outputs": [
    {
     "name": "stdout",
     "output_type": "stream",
     "text": [
      "NH IS REQUESTING AN UPDATE OF THE BACK PAY SHE WANTS TO KNOW A TIME FRAME FOR THE BACK PAY TO BE PROCESSED MP 0 01 BACKPAY 2560 HP PLZ HELP KX 3 K 1001 0 01 0 1000 000\n",
      "Predicted label is: Reinstatement\n"
     ]
    },
    {
     "data": {
      "image/png": "[encoded data removed]",
      "text/plain": [
       "<matplotlib.figure.Figure at 0x279281b6c88>"
      ]
     },
     "metadata": {
      "needs_background": "light"
     },
     "output_type": "display_data"
    },
    {
     "data": {
      "text/plain": [
       "('Reinstatement', 0.15035322)"
      ]
     },
     "execution_count": 168,
     "metadata": {},
     "output_type": "execute_result"
    }
   ],
   "source": [
    "t=random.sample(list(no_label_data.mtext.values),1)[0]\n",
    "t=cleanText([t])\n",
    "t.append(-1)\n",
    "mdw_predict(t,textnet)"
   ]
  },
  {
   "cell_type": "code",
   "execution_count": 339,
   "metadata": {},
   "outputs": [
    {
     "name": "stdout",
     "output_type": "stream",
     "text": [
      "cosine sim=0.974: IRMAA\n",
      "cosine sim=0.904: IRRMA\n",
      "cosine sim=0.832: IRMA\n",
      "cosine sim=0.785: PREMIUM\n",
      "cosine sim=0.764: EXTRA\n",
      "cosine sim=0.761: SURCHARGE\n",
      "cosine sim=0.748: LCE\n",
      "cosine sim=0.747: COLA\n",
      "cosine sim=0.741: PENALTY\n",
      "cosine sim=0.737: MEDICARE\n"
     ]
    }
   ],
   "source": [
    "get_similar_tokens('irmma', 10,net[0])"
   ]
  },
  {
   "cell_type": "code",
   "execution_count": 290,
   "metadata": {
    "collapsed": true
   },
   "outputs": [],
   "source": [
    "def to_vec(query_token, embed):\n",
    "    W = embed.weight.data()\n",
    "    return W[token_to_idx[query_token]]"
   ]
  },
  {
   "cell_type": "code",
   "execution_count": 303,
   "metadata": {},
   "outputs": [
    {
     "data": {
      "text/plain": [
       "\n",
       "[1.086584]\n",
       "<NDArray 1 @gpu(0)>"
      ]
     },
     "execution_count": 303,
     "metadata": {},
     "output_type": "execute_result"
    }
   ],
   "source": [
    "nd.norm(to_vec('IRMAA',textnet.embedding)-to_vec('IRMMA',textnet.embedding))"
   ]
  },
  {
   "cell_type": "code",
   "execution_count": 293,
   "metadata": {},
   "outputs": [
    {
     "data": {
      "text/plain": [
       "\n",
       "[ 0.00561888 -0.09356435 -0.1808306   0.12999058 -0.26821637  0.23409535\n",
       " -0.42693195 -0.24741603 -0.24211018  0.02739589  0.08314547  0.12060302\n",
       " -0.4014776   0.24852435  0.01956573 -0.53753364 -0.29112694 -0.30662483\n",
       "  0.1888835   0.37300947  0.24305102 -0.36055386 -0.48061314  0.4845088\n",
       " -0.02123025 -0.238081    0.34899026  0.49492994  0.27182004  0.2455002\n",
       "  0.18864883  0.18048002 -0.4002455   0.3039294  -0.07281417 -0.27333775\n",
       " -0.16473398 -0.432996   -0.3910344   0.2813746  -0.22064604  0.07746987\n",
       "  0.23763154  0.11332429 -0.1294922  -0.18185821 -0.1519389  -0.0270189\n",
       " -0.23399298 -0.11180773]\n",
       "<NDArray 50 @gpu(0)>"
      ]
     },
     "execution_count": 293,
     "metadata": {},
     "output_type": "execute_result"
    }
   ],
   "source": [
    "to_vec('IRMAA',textnet.embedding)"
   ]
  },
  {
   "cell_type": "code",
   "execution_count": 117,
   "metadata": {},
   "outputs": [],
   "source": [
    "textnet.save_parameters('X:/Projects/MDW/temp/code/textnet2019.params')"
   ]
  },
  {
   "cell_type": "markdown",
   "metadata": {},
   "source": [
    "# End here"
   ]
  },
  {
   "cell_type": "code",
   "execution_count": null,
   "metadata": {},
   "outputs": [],
   "source": []
  },
  {
   "cell_type": "code",
   "execution_count": null,
   "metadata": {},
   "outputs": [],
   "source": []
  },
  {
   "cell_type": "code",
   "execution_count": 518,
   "metadata": {
    "collapsed": true
   },
   "outputs": [],
   "source": [
    "import pandas as pd\n",
    "forlabelMDW = pd.read_excel(r'X:\\Projects\\MDW\\temp\\Copy of ForLabelingMDW(3-25to3-29).xlsx')"
   ]
  },
  {
   "cell_type": "code",
   "execution_count": 505,
   "metadata": {},
   "outputs": [
    {
     "data": {
      "text/plain": [
       "'Benefit Explanation'"
      ]
     },
     "execution_count": 505,
     "metadata": {},
     "output_type": "execute_result"
    }
   ],
   "source": [
    "forlabelMDW.loc[20,'Prediction']"
   ]
  },
  {
   "cell_type": "code",
   "execution_count": 519,
   "metadata": {
    "collapsed": true
   },
   "outputs": [],
   "source": [
    "for i in forlabelMDW.index:\n",
    "    t=cleanText([forlabelMDW.Mtext.values[i]])\n",
    "    t.append(-1)\n",
    "    s = mdw_predict(t,textnet,output=False)\n",
    "    if s[1] > 0.5:    \n",
    "        forlabelMDW.loc[i,'Prediction']=s[0]\n",
    "        forlabelMDW.loc[i,'Confidence']=s[1]"
   ]
  },
  {
   "cell_type": "code",
   "execution_count": 520,
   "metadata": {
    "collapsed": true
   },
   "outputs": [],
   "source": [
    "forlabelMDW.to_excel(r'X:\\Projects\\MDW\\temp\\ForLabelingMDW(3-25to3-29)w_predictions.xlsx')"
   ]
  },
  {
   "cell_type": "code",
   "execution_count": 455,
   "metadata": {},
   "outputs": [
    {
     "data": {
      "text/plain": [
       "\n",
       "[ 0.41928962 -0.05232305  0.06732052  0.04166986 -0.00049291  0.2054341\n",
       "  0.05663381  0.04308201  0.03609613 -0.04456946  0.087288    0.02740583\n",
       " -0.17397396 -0.12928203 -0.18081066 -0.25023207 -0.07720701 -0.04341961\n",
       "  0.19286515  0.07844424  0.17464098 -0.06129236 -0.21701384  0.19253273\n",
       "  0.00569795 -0.03014432 -0.206507    0.01358892  0.06068921  0.270307\n",
       "  0.03530313 -0.15027536  0.08013483  0.17520432  0.12777956 -0.20505908\n",
       "  0.00137738 -0.13433182  0.02645227  0.11845467 -0.01744765  0.10970467\n",
       "  0.11093113 -0.13894762  0.12395454 -0.30787936 -0.01800296  0.07222912\n",
       " -0.02455311 -0.10716875]\n",
       "<NDArray 50 @gpu(0)>"
      ]
     },
     "execution_count": 455,
     "metadata": {},
     "output_type": "execute_result"
    }
   ],
   "source": [
    "textnet.constant_embedding.weight.data()[808]"
   ]
  },
  {
   "cell_type": "code",
   "execution_count": 77,
   "metadata": {
    "scrolled": true
   },
   "outputs": [
    {
     "data": {
      "text/plain": [
       "TextCNN(\n",
       "  (embedding): Embedding(49628 -> 50, float32)\n",
       "  (constant_embedding): Embedding(49628 -> 50, float32)\n",
       "  (dropout): Dropout(p = 0.5, axes=())\n",
       "  (decoder): Dense(None -> 25, linear)\n",
       "  (pool): GlobalMaxPool1D(size=(1,), stride=(1,), padding=(0,), ceil_mode=True)\n",
       "  (convs): Sequential(\n",
       "    (0): Conv1D(None -> 400, kernel_size=(1,), stride=(1,))\n",
       "    (1): Conv1D(None -> 100, kernel_size=(2,), stride=(1,))\n",
       "    (2): Conv1D(None -> 100, kernel_size=(3,), stride=(1,))\n",
       "    (3): Conv1D(None -> 50, kernel_size=(4,), stride=(1,))\n",
       "  )\n",
       ")"
      ]
     },
     "execution_count": 77,
     "metadata": {},
     "output_type": "execute_result"
    }
   ],
   "source": [
    "textnet1"
   ]
  },
  {
   "cell_type": "code",
   "execution_count": 78,
   "metadata": {
    "collapsed": true
   },
   "outputs": [],
   "source": [
    "textnet1.load_parameters('X:/Projects/MDW/temp/code/textnetMar19_50.params')"
   ]
  },
  {
   "cell_type": "code",
   "execution_count": 43,
   "metadata": {
    "collapsed": true
   },
   "outputs": [],
   "source": [
    "x=preprocess_mdw(random.sample(test_data,1), vocab)[0].as_in_context(mx.gpu())"
   ]
  },
  {
   "cell_type": "code",
   "execution_count": 44,
   "metadata": {
    "scrolled": true
   },
   "outputs": [
    {
     "data": {
      "text/plain": [
       "\n",
       "[[[ 0.0889896  -0.07846874  0.2587647  ...  0.33132428 -0.06544449\n",
       "   -0.03903337]\n",
       "  [ 0.07750888 -0.17100939  0.09104776 ...  0.11553249 -0.09299058\n",
       "   -0.0223031 ]\n",
       "  [ 0.00849385 -0.11474949  0.01498142 ... -0.0034818   0.04108622\n",
       "    0.10198218]\n",
       "  ...\n",
       "  [-0.01539255  0.14308195  0.09002183 ...  0.13329844 -0.18069859\n",
       "    0.00943536]\n",
       "  [-0.01539255  0.14308195  0.09002183 ...  0.13329844 -0.18069859\n",
       "    0.00943536]\n",
       "  [-0.01539255  0.14308195  0.09002183 ...  0.13329844 -0.18069859\n",
       "    0.00943536]]]\n",
       "<NDArray 1x10000x50 @gpu(0)>"
      ]
     },
     "execution_count": 44,
     "metadata": {},
     "output_type": "execute_result"
    }
   ],
   "source": [
    "import mxnet as mx\n",
    "textnet.embedding(x)"
   ]
  },
  {
   "cell_type": "code",
   "execution_count": 446,
   "metadata": {
    "collapsed": true
   },
   "outputs": [],
   "source": [
    "for i in [0,1,2,3]:\n",
    "    for j in range(textnet.convs[i].weight.data().shape[0]):\n",
    "        x=pd.DataFrame(textnet.convs[i].weight.data()[j].asnumpy())\n",
    "        x.to_excel(r'X:\\Projects\\MDW\\Export\\model params\\conv_%d_%d_%s.xlsx'%(i,j,'weight'))"
   ]
  },
  {
   "cell_type": "code",
   "execution_count": 444,
   "metadata": {},
   "outputs": [
    {
     "ename": "SyntaxError",
     "evalue": "invalid syntax (<ipython-input-444-35a00d2321bc>, line 1)",
     "output_type": "error",
     "traceback": [
      "\u001b[1;36m  File \u001b[1;32m\"<ipython-input-444-35a00d2321bc>\"\u001b[1;36m, line \u001b[1;32m1\u001b[0m\n\u001b[1;33m    range(textnet.convs[2].weight.data().shape[0]):\u001b[0m\n\u001b[1;37m                                                   ^\u001b[0m\n\u001b[1;31mSyntaxError\u001b[0m\u001b[1;31m:\u001b[0m invalid syntax\n"
     ]
    }
   ],
   "source": [
    "range(textnet.convs[2].weight.data().shape[0])\n"
   ]
  },
  {
   "cell_type": "code",
   "execution_count": null,
   "metadata": {},
   "outputs": [],
   "source": []
  },
  {
   "cell_type": "code",
   "execution_count": null,
   "metadata": {},
   "outputs": [],
   "source": []
  },
  {
   "cell_type": "code",
   "execution_count": null,
   "metadata": {},
   "outputs": [],
   "source": []
  },
  {
   "cell_type": "code",
   "execution_count": null,
   "metadata": {},
   "outputs": [],
   "source": []
  },
  {
   "cell_type": "code",
   "execution_count": null,
   "metadata": {},
   "outputs": [],
   "source": []
  },
  {
   "cell_type": "code",
   "execution_count": 108,
   "metadata": {},
   "outputs": [
    {
     "ename": "NameError",
     "evalue": "name 'x' is not defined",
     "output_type": "error",
     "traceback": [
      "\u001b[1;31m---------------------------------------------------------------------------\u001b[0m",
      "\u001b[1;31mNameError\u001b[0m                                 Traceback (most recent call last)",
      "\u001b[1;32m<ipython-input-108-3658ee3ead6c>\u001b[0m in \u001b[0;36m<module>\u001b[1;34m()\u001b[0m\n\u001b[0;32m      1\u001b[0m \u001b[0mbias\u001b[0m\u001b[1;33m=\u001b[0m\u001b[0mtextnet\u001b[0m\u001b[1;33m.\u001b[0m\u001b[0mconvs\u001b[0m\u001b[1;33m[\u001b[0m\u001b[1;36m0\u001b[0m\u001b[1;33m]\u001b[0m\u001b[1;33m.\u001b[0m\u001b[0mbias\u001b[0m\u001b[1;33m.\u001b[0m\u001b[0mdata\u001b[0m\u001b[1;33m(\u001b[0m\u001b[1;33m)\u001b[0m\u001b[1;33m.\u001b[0m\u001b[0mas_in_context\u001b[0m\u001b[1;33m(\u001b[0m\u001b[0mmx\u001b[0m\u001b[1;33m.\u001b[0m\u001b[0mgpu\u001b[0m\u001b[1;33m(\u001b[0m\u001b[1;33m)\u001b[0m\u001b[1;33m)\u001b[0m\u001b[1;33m\u001b[0m\u001b[0m\n\u001b[0;32m      2\u001b[0m \u001b[0mweight\u001b[0m\u001b[1;33m=\u001b[0m\u001b[0mtextnet\u001b[0m\u001b[1;33m.\u001b[0m\u001b[0mconvs\u001b[0m\u001b[1;33m[\u001b[0m\u001b[1;36m0\u001b[0m\u001b[1;33m]\u001b[0m\u001b[1;33m.\u001b[0m\u001b[0mweight\u001b[0m\u001b[1;33m.\u001b[0m\u001b[0mdata\u001b[0m\u001b[1;33m(\u001b[0m\u001b[1;33m)\u001b[0m\u001b[1;33m.\u001b[0m\u001b[0mas_in_context\u001b[0m\u001b[1;33m(\u001b[0m\u001b[0mmx\u001b[0m\u001b[1;33m.\u001b[0m\u001b[0mgpu\u001b[0m\u001b[1;33m(\u001b[0m\u001b[1;33m)\u001b[0m\u001b[1;33m)\u001b[0m\u001b[1;33m\u001b[0m\u001b[0m\n\u001b[1;32m----> 3\u001b[1;33m \u001b[0mnd\u001b[0m\u001b[1;33m.\u001b[0m\u001b[0mdot\u001b[0m\u001b[1;33m(\u001b[0m\u001b[0mweight\u001b[0m\u001b[1;33m,\u001b[0m\u001b[0mnd\u001b[0m\u001b[1;33m.\u001b[0m\u001b[0mconcat\u001b[0m\u001b[1;33m(\u001b[0m\u001b[0mtextnet\u001b[0m\u001b[1;33m.\u001b[0m\u001b[0membedding\u001b[0m\u001b[1;33m(\u001b[0m\u001b[0mx\u001b[0m\u001b[1;33m)\u001b[0m\u001b[1;33m,\u001b[0m \u001b[0mtextnet\u001b[0m\u001b[1;33m.\u001b[0m\u001b[0mconstant_embedding\u001b[0m\u001b[1;33m(\u001b[0m\u001b[0mx\u001b[0m\u001b[1;33m)\u001b[0m\u001b[1;33m,\u001b[0m \u001b[0mdim\u001b[0m\u001b[1;33m=\u001b[0m\u001b[1;36m2\u001b[0m\u001b[1;33m)\u001b[0m\u001b[1;33m.\u001b[0m\u001b[0mtranspose\u001b[0m\u001b[1;33m(\u001b[0m\u001b[1;33m(\u001b[0m\u001b[1;36m0\u001b[0m\u001b[1;33m,\u001b[0m \u001b[1;36m2\u001b[0m\u001b[1;33m,\u001b[0m \u001b[1;36m1\u001b[0m\u001b[1;33m)\u001b[0m\u001b[1;33m)\u001b[0m\u001b[1;33m)\u001b[0m\u001b[1;33m\u001b[0m\u001b[0m\n\u001b[0m",
      "\u001b[1;31mNameError\u001b[0m: name 'x' is not defined"
     ]
    }
   ],
   "source": [
    "bias=textnet.convs[0].bias.data().as_in_context(mx.gpu())\n",
    "weight=textnet.convs[0].weight.data().as_in_context(mx.gpu())\n",
    "nd.dot(weight,nd.concat(textnet.embedding(x), textnet.constant_embedding(x), dim=2).transpose((0, 2, 1)))"
   ]
  },
  {
   "cell_type": "code",
   "execution_count": null,
   "metadata": {
    "collapsed": true
   },
   "outputs": [],
   "source": []
  },
  {
   "cell_type": "code",
   "execution_count": 4,
   "metadata": {
    "collapsed": true
   },
   "outputs": [
    {
     "data": {
      "text/plain": [
       "geopy.geocoders.osm.Nominatim"
      ]
     },
     "execution_count": 4,
     "metadata": {},
     "output_type": "execute_result"
    }
   ],
   "source": [
    "Nominatim"
   ]
  },
  {
   "cell_type": "code",
   "execution_count": null,
   "metadata": {
    "collapsed": true
   },
   "outputs": [],
   "source": []
  },
  {
   "cell_type": "code",
   "execution_count": null,
   "metadata": {
    "collapsed": true
   },
   "outputs": [],
   "source": []
  },
  {
   "cell_type": "code",
   "execution_count": 5,
   "metadata": {
    "collapsed": true
   },
   "outputs": [
    {
     "name": "stderr",
     "output_type": "stream",
     "text": [
      "C:\\ProgramData\\Anaconda3\\lib\\site-packages\\ipykernel_launcher.py:2: DeprecationWarning: Using Nominatim with the default \"geopy/1.20.0\" `user_agent` is strongly discouraged, as it violates Nominatim's ToS https://operations.osmfoundation.org/policies/nominatim/ and may possibly cause 403 and 429 HTTP errors. Please specify a custom `user_agent` with `Nominatim(user_agent=\"my-application\")` or by overriding the default `user_agent`: `geopy.geocoders.options.default_user_agent = \"my-application\"`. In geopy 2.0 this will become an exception.\n",
      "  \n"
     ]
    },
    {
     "name": "stdout",
     "output_type": "stream",
     "text": [
      "Backwerk, Potsdamer Platz, Tiergarten, Mitte, Berlin, 10785, Deutschland\n",
      "(52.50958575, 13.3762845319028)\n",
      "{'place_id': 176241040, 'licence': 'Data © OpenStreetMap contributors, ODbL 1.0. https://osm.org/copyright', 'osm_type': 'way', 'osm_id': 464904422, 'lat': '52.50958575', 'lon': '13.3762845319028', 'display_name': 'Backwerk, Potsdamer Platz, Tiergarten, Mitte, Berlin, 10785, Deutschland', 'address': {'bakery': 'Backwerk', 'footway': 'Potsdamer Platz', 'suburb': 'Tiergarten', 'city_district': 'Mitte', 'state': 'Berlin', 'postcode': '10785', 'country': 'Deutschland', 'country_code': 'de'}, 'boundingbox': ['52.5095298', '52.5096533', '13.3762456', '13.3763382']}\n"
     ]
    }
   ],
   "source": [
    "from geopy.geocoders import Nominatim\n",
    "geolocator = Nominatim()\n",
    "location = geolocator.reverse(\"52.509669, 13.376294\")\n",
    "print(location.address)\n",
    "\n",
    "print((location.latitude, location.longitude))\n",
    "print(location.raw)"
   ]
  },
  {
   "cell_type": "code",
   "execution_count": 6,
   "metadata": {},
   "outputs": [],
   "source": [
    "a = ['pc1', 'pc3', 'pc2']"
   ]
  },
  {
   "cell_type": "code",
   "execution_count": 10,
   "metadata": {},
   "outputs": [
    {
     "data": {
      "text/plain": [
       "'pc1, pc3, pc2 wirte'"
      ]
     },
     "execution_count": 10,
     "metadata": {},
     "output_type": "execute_result"
    }
   ],
   "source": [
    "\", \".join(a) + ' wirte'"
   ]
  },
  {
   "cell_type": "code",
   "execution_count": 12,
   "metadata": {},
   "outputs": [],
   "source": [
    "d= {'a' : 12, 'b' : 44, 'ab' : 23}"
   ]
  },
  {
   "cell_type": "code",
   "execution_count": 13,
   "metadata": {},
   "outputs": [
    {
     "data": {
      "text/plain": [
       "{'a': 12, 'b': 44, 'ab': 23}"
      ]
     },
     "execution_count": 13,
     "metadata": {},
     "output_type": "execute_result"
    }
   ],
   "source": [
    "d"
   ]
  },
  {
   "cell_type": "code",
   "execution_count": 16,
   "metadata": {},
   "outputs": [
    {
     "data": {
      "text/plain": [
       "'a, b, ab'"
      ]
     },
     "execution_count": 16,
     "metadata": {},
     "output_type": "execute_result"
    }
   ],
   "source": [
    "\", \".join(d.keys())"
   ]
  },
  {
   "cell_type": "code",
   "execution_count": 17,
   "metadata": {},
   "outputs": [],
   "source": [
    "gdd = {}"
   ]
  },
  {
   "cell_type": "code",
   "execution_count": 47,
   "metadata": {},
   "outputs": [],
   "source": [
    "exp = Exception(\"BAZINGA\")"
   ]
  },
  {
   "cell_type": "code",
   "execution_count": 48,
   "metadata": {},
   "outputs": [
    {
     "ename": "AttributeError",
     "evalue": "'Exception' object has no attribute 'encode'",
     "output_type": "error",
     "traceback": [
      "\u001b[1;31m---------------------------------------------------------------------------\u001b[0m",
      "\u001b[1;31mAttributeError\u001b[0m                            Traceback (most recent call last)",
      "\u001b[1;32m<ipython-input-48-a96ba9ad1a17>\u001b[0m in \u001b[0;36m<module>\u001b[1;34m()\u001b[0m\n\u001b[0;32m      7\u001b[0m \u001b[0mto_email\u001b[0m \u001b[1;33m=\u001b[0m \u001b[1;34m'daniel.xia@ssa.gov'\u001b[0m\u001b[1;33m\u001b[0m\u001b[0m\n\u001b[0;32m      8\u001b[0m \u001b[1;33m\u001b[0m\u001b[0m\n\u001b[1;32m----> 9\u001b[1;33m \u001b[0mmsg\u001b[0m \u001b[1;33m=\u001b[0m \u001b[0mMIMEText\u001b[0m\u001b[1;33m(\u001b[0m\u001b[0mexp\u001b[0m\u001b[1;33m)\u001b[0m\u001b[1;33m\u001b[0m\u001b[0m\n\u001b[0m\u001b[0;32m     10\u001b[0m \u001b[0mmsg\u001b[0m\u001b[1;33m[\u001b[0m\u001b[1;34m'Subject'\u001b[0m\u001b[1;33m]\u001b[0m \u001b[1;33m=\u001b[0m \u001b[1;34m'MDW Write CSV Failure'\u001b[0m\u001b[1;33m\u001b[0m\u001b[0m\n\u001b[0;32m     11\u001b[0m \u001b[0mmsg\u001b[0m\u001b[1;33m[\u001b[0m\u001b[1;34m'From'\u001b[0m\u001b[1;33m]\u001b[0m \u001b[1;33m=\u001b[0m \u001b[0mfrom_email\u001b[0m\u001b[1;33m\u001b[0m\u001b[0m\n",
      "\u001b[1;32mC:\\ProgramData\\Anaconda3\\lib\\email\\mime\\text.py\u001b[0m in \u001b[0;36m__init__\u001b[1;34m(self, _text, _subtype, _charset, policy)\u001b[0m\n\u001b[0;32m     32\u001b[0m         \u001b[1;32mif\u001b[0m \u001b[0m_charset\u001b[0m \u001b[1;32mis\u001b[0m \u001b[1;32mNone\u001b[0m\u001b[1;33m:\u001b[0m\u001b[1;33m\u001b[0m\u001b[0m\n\u001b[0;32m     33\u001b[0m             \u001b[1;32mtry\u001b[0m\u001b[1;33m:\u001b[0m\u001b[1;33m\u001b[0m\u001b[0m\n\u001b[1;32m---> 34\u001b[1;33m                 \u001b[0m_text\u001b[0m\u001b[1;33m.\u001b[0m\u001b[0mencode\u001b[0m\u001b[1;33m(\u001b[0m\u001b[1;34m'us-ascii'\u001b[0m\u001b[1;33m)\u001b[0m\u001b[1;33m\u001b[0m\u001b[0m\n\u001b[0m\u001b[0;32m     35\u001b[0m                 \u001b[0m_charset\u001b[0m \u001b[1;33m=\u001b[0m \u001b[1;34m'us-ascii'\u001b[0m\u001b[1;33m\u001b[0m\u001b[0m\n\u001b[0;32m     36\u001b[0m             \u001b[1;32mexcept\u001b[0m \u001b[0mUnicodeEncodeError\u001b[0m\u001b[1;33m:\u001b[0m\u001b[1;33m\u001b[0m\u001b[0m\n",
      "\u001b[1;31mAttributeError\u001b[0m: 'Exception' object has no attribute 'encode'"
     ]
    }
   ],
   "source": [
    "\n",
    "\n",
    "from email.mime.text import MIMEText\n",
    "import smtplib\n",
    "\n",
    "from_email = 'daniel.xia@ssa.gov'\n",
    "to_email = 'daniel.xia@ssa.gov'\n",
    "\n",
    "msg = MIMEText(exp)\n",
    "msg['Subject'] = 'MDW Write CSV Failure'\n",
    "msg['From'] = from_email\n",
    "msg['To'] = to_email\n",
    "\n",
    "s = smtplib.SMTP('mailrelay.ssa.gov')   \n",
    "s.sendmail(from_email, to_email, msg.as_string())\n",
    "s.quit()\n"
   ]
  },
  {
   "cell_type": "code",
   "execution_count": 32,
   "metadata": {},
   "outputs": [
    {
     "data": {
      "text/plain": [
       "(153689, 8)"
      ]
     },
     "execution_count": 32,
     "metadata": {},
     "output_type": "execute_result"
    }
   ],
   "source": [
    "raw_data.shape"
   ]
  },
  {
   "cell_type": "code",
   "execution_count": 52,
   "metadata": {},
   "outputs": [
    {
     "data": {
      "text/plain": [
       "'BAZINGA'"
      ]
     },
     "execution_count": 52,
     "metadata": {},
     "output_type": "execute_result"
    }
   ],
   "source": [
    "str(exp)"
   ]
  },
  {
   "cell_type": "code",
   "execution_count": 41,
   "metadata": {},
   "outputs": [
    {
     "name": "stdout",
     "output_type": "stream",
     "text": [
      " Volume in drive X is ace\n",
      " Volume Serial Number is 009A-9A03\n",
      "\n",
      " Directory of X:\\Projects\\MDW\\temp\\code\n",
      "\n",
      "11/05/2019  10:14 AM    <DIR>          .\n",
      "11/05/2019  05:45 AM    <DIR>          ..\n",
      "03/08/2019  05:36 PM        79,404,944 netMar8.params\n",
      "04/01/2019  11:46 AM        60,082,745 cachesApril1.sav\n",
      "10/29/2019  01:46 PM                 0 untitled.txt\n",
      "03/07/2019  12:59 PM        83,669,793 textnetMar5.params\n",
      "04/01/2019  11:58 AM        20,359,671 textnetApril1_50.params\n",
      "10/31/2019  01:59 PM    <DIR>          .ipynb_checkpoints\n",
      "03/22/2019  07:12 AM            16,922 text8.txt\n",
      "03/05/2019  10:19 AM       105,188,547 textnet.sav\n",
      "03/20/2019  08:23 AM        19,851,344 netMar19.params\n",
      "11/30/2018  08:02 AM         5,957,139 tt.xlsx\n",
      "10/30/2019  12:24 PM            84,731 train_MDW - Dan.ipynb\n",
      "03/15/2019  01:06 PM        81,233,271 textnetMar13_200.params\n",
      "10/31/2019  12:31 PM             9,252 Untitled4.ipynb\n",
      "11/29/2018  02:52 PM             1,768 post_pattern.py\n",
      "03/08/2019  02:53 PM             8,860 pca.ipynb\n",
      "02/05/2019  08:55 AM    <DIR>          __pycache__\n",
      "03/08/2019  10:25 AM        83,669,793 textnetMar7_200.params\n",
      "03/07/2019  10:01 AM       206,641,445 mdw_dic_200_normalized.txt\n",
      "10/17/2019  12:53 PM             9,755 demo.ipynb\n",
      "11/27/2018  12:27 PM               102 officecode.py\n",
      "12/17/2018  02:05 PM            16,063 MWE.py\n",
      "11/05/2019  10:14 AM            80,764 train_MDW.ipynb\n",
      "11/05/2019  09:58 AM            28,952 trainWord2Vec_MDW.ipynb\n",
      "03/20/2019  08:23 AM         1,167,559 cachesMar19.sav\n",
      "02/13/2019  09:08 PM        11,760,175 cachesfeb13.sav\n",
      "05/22/2019  07:37 AM             7,819 main.py\n",
      "04/05/2019  09:06 AM    <DIR>          backup\n",
      "03/07/2019  09:47 AM       199,228,805 mdw_dic_200.txt\n",
      "11/28/2018  09:41 AM             2,511 stopword.py\n",
      "06/04/2019  06:36 AM        13,380,866 cachesMay30.sav\n",
      "03/05/2019  10:22 AM             2,589 Untitled1.ipynb\n",
      "02/05/2019  01:47 PM        22,221,744 net.params.txt\n",
      "03/20/2019  12:44 PM        51,270,095 mdw_dic_50_normalized.txt\n",
      "02/08/2019  09:17 AM        39,702,544 netFeb8.params\n",
      "06/04/2019  06:41 AM        20,372,691 textnetJune4.params\n",
      "03/04/2019  04:05 PM        40,795,393 textnetMar4.params\n",
      "02/08/2019  04:19 PM        40,694,349 textnetFeb8.params\n",
      "03/07/2019  10:28 AM         1,167,559 cachesMar7.sav\n",
      "02/08/2019  11:15 AM        98,087,540 mdw_dic_100.txt\n",
      "02/26/2019  04:43 PM        40,704,871 textnetFeb27.params\n",
      "02/05/2019  02:17 PM        22,221,744 net.params\n",
      "11/27/2018  09:12 AM            79,872 test.xls\n",
      "03/20/2019  08:25 AM        49,551,465 mdw_dic_50.txt\n",
      "03/06/2019  08:18 AM             2,315 Untitled2.ipynb\n",
      "02/26/2019  01:45 PM            14,755 Untitled.ipynb\n",
      "02/07/2019  06:11 PM           649,199 caches.sav\n",
      "03/19/2019  10:56 AM        20,359,671 textnetMar19_50.params\n",
      "10/31/2019  02:03 PM            21,391 trainWord2Vec_MDW_Dan.ipynb\n",
      "10/29/2019  10:38 AM             3,755 Untitled3.ipynb\n",
      "03/08/2019  05:36 PM         1,167,559 cachesMar8.sav\n",
      "03/07/2019  09:39 AM         1,167,559 cachesFeb8.sav\n",
      "03/07/2019  09:39 AM        79,404,944 netMar7.params\n",
      "11/29/2018  03:56 PM             6,602 basis.txt\n",
      "02/13/2019  09:08 PM        22,221,744 netfeb13.params\n",
      "10/29/2019  12:15 PM            15,272 untitled0.py\n",
      "              52 File(s)  1,523,770,818 bytes\n",
      "               5 Dir(s)  137,271,205,888 bytes free\n"
     ]
    }
   ],
   "source": [
    "!dir"
   ]
  },
  {
   "cell_type": "code",
   "execution_count": 45,
   "metadata": {},
   "outputs": [],
   "source": [
    "import os\n",
    "os.rename(r\"X:\\Projects\\MDW\\temp\\code\\untitled.txt\", r\"X:\\Projects\\MDW\\temp\\untitled1.txt\")"
   ]
  },
  {
   "cell_type": "code",
   "execution_count": 53,
   "metadata": {},
   "outputs": [
    {
     "ename": "TypeError",
     "evalue": "'builtin_function_or_method' object is not subscriptable",
     "output_type": "error",
     "traceback": [
      "\u001b[1;31m---------------------------------------------------------------------------\u001b[0m",
      "\u001b[1;31mTypeError\u001b[0m                                 Traceback (most recent call last)",
      "\u001b[1;32m<ipython-input-53-1bd142f85681>\u001b[0m in \u001b[0;36m<module>\u001b[1;34m()\u001b[0m\n\u001b[0;32m      6\u001b[0m \u001b[0mmsg\u001b[0m\u001b[1;33m[\u001b[0m\u001b[1;34m'From'\u001b[0m\u001b[1;33m]\u001b[0m \u001b[1;33m=\u001b[0m \u001b[0mfrom_email\u001b[0m\u001b[1;33m\u001b[0m\u001b[0m\n\u001b[0;32m      7\u001b[0m \u001b[0mmsg\u001b[0m\u001b[1;33m[\u001b[0m\u001b[1;34m'To'\u001b[0m\u001b[1;33m]\u001b[0m \u001b[1;33m=\u001b[0m \u001b[0mto_email\u001b[0m\u001b[1;33m\u001b[0m\u001b[0m\n\u001b[1;32m----> 8\u001b[1;33m \u001b[0mmsg\u001b[0m\u001b[1;33m[\u001b[0m\u001b[1;34m'cc'\u001b[0m\u001b[1;33m]\u001b[0m \u001b[1;33m=\u001b[0m \u001b[1;34m\";\"\u001b[0m\u001b[1;33m.\u001b[0m\u001b[0mjoin\u001b[0m\u001b[1;33m[\u001b[0m\u001b[0mto_email\u001b[0m\u001b[1;33m,\u001b[0m \u001b[0mto_email\u001b[0m\u001b[1;33m]\u001b[0m\u001b[1;33m\u001b[0m\u001b[0m\n\u001b[0m",
      "\u001b[1;31mTypeError\u001b[0m: 'builtin_function_or_method' object is not subscriptable"
     ]
    }
   ],
   "source": [
    "from_email = 'daniel.xia@ssa.gov'\n",
    "to_email = 'daniel.xia@ssa.gov'\n",
    "\n",
    "msg = MIMEText(str(exp))\n",
    "msg['Subject'] = 'MDW Write CSV Failure'\n",
    "msg['From'] = from_email\n",
    "msg['To'] = to_email\n",
    "msg['cc'] = \";\".join[to_email, to_email]"
   ]
  },
  {
   "cell_type": "code",
   "execution_count": 54,
   "metadata": {},
   "outputs": [
    {
     "ename": "TypeError",
     "evalue": "'builtin_function_or_method' object is not subscriptable",
     "output_type": "error",
     "traceback": [
      "\u001b[1;31m---------------------------------------------------------------------------\u001b[0m",
      "\u001b[1;31mTypeError\u001b[0m                                 Traceback (most recent call last)",
      "\u001b[1;32m<ipython-input-54-7d1d83c3a840>\u001b[0m in \u001b[0;36m<module>\u001b[1;34m()\u001b[0m\n\u001b[1;32m----> 1\u001b[1;33m \u001b[1;34m\";\"\u001b[0m\u001b[1;33m.\u001b[0m\u001b[0mjoin\u001b[0m\u001b[1;33m[\u001b[0m\u001b[0mto_email\u001b[0m\u001b[1;33m,\u001b[0m \u001b[0mto_email\u001b[0m\u001b[1;33m]\u001b[0m\u001b[1;33m\u001b[0m\u001b[0m\n\u001b[0m",
      "\u001b[1;31mTypeError\u001b[0m: 'builtin_function_or_method' object is not subscriptable"
     ]
    }
   ],
   "source": [
    "\";\".join[to_email, to_email]"
   ]
  },
  {
   "cell_type": "code",
   "execution_count": null,
   "metadata": {},
   "outputs": [],
   "source": []
  }
 ],
 "metadata": {
  "kernelspec": {
   "display_name": "Python 3",
   "language": "python",
   "name": "python3"
  },
  "language_info": {
   "codemirror_mode": {
    "name": "ipython",
    "version": 3
   },
   "file_extension": ".py",
   "mimetype": "text/x-python",
   "name": "python",
   "nbconvert_exporter": "python",
   "pygments_lexer": "ipython3",
   "version": "3.7.0"
  }
 },
 "nbformat": 4,
 "nbformat_minor": 2
}
